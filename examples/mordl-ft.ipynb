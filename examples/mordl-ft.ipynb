{
 "cells": [
  {
   "cell_type": "markdown",
   "metadata": {},
   "source": [
    "**NB:** For all tests, we used *FastText* embeddings downloaded\n",
    "from [here](http://files.deeppavlov.ai/embeddings/ft_native_300_ru_wiki_lenta_nltk_wordpunct_tokenize/ft_native_300_ru_wiki_lenta_nltk_wordpunct_tokenize.bin).\n",
    "If you want your model to achieve high scores, use embeddings\n",
    "without any lemmatization, punctuation removal and other\n",
    "inappropriate transformations."
   ]
  },
  {
   "cell_type": "markdown",
   "metadata": {},
   "source": [
    "## UPOS"
   ]
  },
  {
   "cell_type": "code",
   "execution_count": 1,
   "metadata": {},
   "outputs": [],
   "source": [
    "from corpuscula.corpus_utils import download_ud, UniversalDependencies, \\\n",
    "                                    AdjustedForSpeech\n",
    "import junky\n",
    "from mordl import UposTagger\n",
    "\n",
    "FT_MODEL_FN = 'ft_native_300_ru_wiki_lenta_nltk_wordpunct_tokenize.bin'\n",
    "MODEL_FN = 'upos-ft_model'\n",
    "SEED=42\n",
    "\n",
    "# we use UD Taiga corpus only as example. For real model training comment\n",
    "# Taiga and uncomment SynTagRus\n",
    "#corpus_name = 'UD_Russian-Taiga'\n",
    "corpus_name = 'UD_Russian-SynTagRus'\n",
    "download_ud(corpus_name, overwrite=False)\n",
    "corpus = UniversalDependencies(corpus_name)\n",
    "#corpus = AdjustedForSpeech(corpus)"
   ]
  },
  {
   "cell_type": "code",
   "execution_count": 2,
   "metadata": {
    "scrolled": true
   },
   "outputs": [
    {
     "name": "stderr",
     "output_type": "stream",
     "text": [
      "Train: Load corpus\n",
      "[=================================================] 48814           \n",
      "Corpus has been loaded: 48814 sentences, 871526 tokens\n",
      "Test: Load corpus\n",
      "[=======] 6584                                                     \n",
      "Corpus has been loaded: 6584 sentences, 118692 tokens\n"
     ]
    },
    {
     "name": "stdout",
     "output_type": "stream",
     "text": [
      "=== UPOS TAGGER TRAINING PIPELINE ===\n",
      "\n",
      "DATASETS CREATION\n",
      "\n",
      "MODEL CREATION\n",
      "Config saved\n",
      "\n",
      "MODEL TRAINING\n",
      "Epoch 1: 100%|██████████| 48814/48814 [02:06<00:00, 389.12it/s, train_loss=0.0564]\n",
      "Epoch 1: \n",
      "Losses: train = 0.13044457, test = 0.03624736\n",
      "Test: accuracy = 0.96886605\n",
      "Test: precision = 0.89306302\n",
      "Test: recall = 0.84544437\n",
      "Test: f1_score = 0.85268954\n",
      "new maximum score 0.96886605\n",
      "Saving state_dict... done.\n",
      "Epoch 2:   0%|          | 0/48814 [00:00<?, ?it/s]"
     ]
    },
    {
     "name": "stderr",
     "output_type": "stream",
     "text": [
      "/usr/local/lib/python3.5/dist-packages/sklearn/metrics/classification.py:1143: UndefinedMetricWarning: Precision is ill-defined and being set to 0.0 in labels with no predicted samples.\n",
      "  'precision', 'predicted', average, warn_for)\n",
      "/usr/local/lib/python3.5/dist-packages/sklearn/metrics/classification.py:1143: UndefinedMetricWarning: F-score is ill-defined and being set to 0.0 in labels with no predicted samples.\n",
      "  'precision', 'predicted', average, warn_for)\n"
     ]
    },
    {
     "name": "stdout",
     "output_type": "stream",
     "text": [
      "Epoch 2: 100%|██████████| 48814/48814 [02:08<00:00, 354.04it/s, train_loss=0.0387]\n",
      "Epoch 2: \n",
      "Losses: train = 0.04247080, test = 0.02837307\n",
      "Test: accuracy = 0.97543211\n",
      "Test: precision = 0.89942434\n",
      "Test: recall = 0.88743450\n",
      "Test: f1_score = 0.89237080\n",
      "new maximum score 0.97543211\n",
      "Saving state_dict... done.\n",
      "Epoch 3: 100%|██████████| 48814/48814 [02:08<00:00, 379.30it/s, train_loss=0.031] \n",
      "Epoch 3: \n",
      "Losses: train = 0.03256159, test = 0.02520218\n",
      "Test: accuracy = 0.97820032\n",
      "Test: precision = 0.95854886\n",
      "Test: recall = 0.91648277\n",
      "Test: f1_score = 0.92489209\n",
      "new maximum score 0.97820032\n",
      "Saving state_dict... done.\n",
      "Epoch 4: 100%|██████████| 48814/48814 [02:08<00:00, 352.92it/s, train_loss=0.0273]\n",
      "Epoch 4: \n",
      "Losses: train = 0.02773231, test = 0.02305097\n",
      "Test: accuracy = 0.98009925\n",
      "Test: precision = 0.94514233\n",
      "Test: recall = 0.92536437\n",
      "Test: f1_score = 0.93228473\n",
      "new maximum score 0.98009925\n",
      "Saving state_dict... done.\n",
      "Epoch 5: 100%|██████████| 48814/48814 [02:09<00:00, 340.94it/s, train_loss=0.024] \n",
      "Epoch 5: \n",
      "Losses: train = 0.02452398, test = 0.02095140\n",
      "Test: accuracy = 0.98197286\n",
      "Test: precision = 0.94137761\n",
      "Test: recall = 0.92778791\n",
      "Test: f1_score = 0.93313968\n",
      "new maximum score 0.98197286\n",
      "Saving state_dict... done.\n",
      "Epoch 6: 100%|██████████| 48814/48814 [02:08<00:00, 370.66it/s, train_loss=0.0218]\n",
      "Epoch 6: \n",
      "Losses: train = 0.02231225, test = 0.02011552\n",
      "Test: accuracy = 0.98250456\n",
      "Test: precision = 0.94484123\n",
      "Test: recall = 0.92896056\n",
      "Test: f1_score = 0.93530232\n",
      "new maximum score 0.98250456\n",
      "Saving state_dict... done.\n",
      "Epoch 7: 100%|██████████| 48814/48814 [02:09<00:00, 365.07it/s, train_loss=0.0209]\n",
      "Epoch 7: \n",
      "Losses: train = 0.02072837, test = 0.01939027\n",
      "Test: accuracy = 0.98313753\n",
      "Test: precision = 0.94407705\n",
      "Test: recall = 0.93000692\n",
      "Test: f1_score = 0.93547798\n",
      "new maximum score 0.98313753\n",
      "Saving state_dict... done.\n",
      "Epoch 8: 100%|██████████| 48814/48814 [02:08<00:00, 382.81it/s, train_loss=0.0187]\n",
      "Epoch 8: \n",
      "Losses: train = 0.01929234, test = 0.01870641\n",
      "Test: accuracy = 0.98398994\n",
      "Test: precision = 0.94722270\n",
      "Test: recall = 0.93027641\n",
      "Test: f1_score = 0.93723137\n",
      "new maximum score 0.98398994\n",
      "Saving state_dict... done.\n",
      "Epoch 9: 100%|██████████| 48814/48814 [02:08<00:00, 351.98it/s, train_loss=0.0178]\n",
      "Epoch 9: \n",
      "Losses: train = 0.01813630, test = 0.01854867\n",
      "Test: accuracy = 0.98455540\n",
      "Test: precision = 0.94539563\n",
      "Test: recall = 0.93181736\n",
      "Test: f1_score = 0.93721388\n",
      "new maximum score 0.98455540\n",
      "Saving state_dict... done.\n",
      "Epoch 10: 100%|██████████| 48814/48814 [02:09<00:00, 357.48it/s, train_loss=0.0172]\n",
      "Epoch 10: \n",
      "Losses: train = 0.01698231, test = 0.01774734\n",
      "Test: accuracy = 0.98492674\n",
      "Test: precision = 0.94547638\n",
      "Test: recall = 0.93068194\n",
      "Test: f1_score = 0.93668075\n",
      "new maximum score 0.98492674\n",
      "Saving state_dict... done.\n",
      "Epoch 11: 100%|██████████| 48814/48814 [02:09<00:00, 378.91it/s, train_loss=0.016] \n",
      "Epoch 11: \n",
      "Losses: train = 0.01624628, test = 0.01778176\n",
      "Test: accuracy = 0.98526433\n",
      "Test: precision = 0.94893572\n",
      "Test: recall = 0.93225959\n",
      "Test: f1_score = 0.93916297\n",
      "new maximum score 0.98526433\n",
      "Saving state_dict... done.\n",
      "Epoch 12: 100%|██████████| 48814/48814 [02:09<00:00, 378.22it/s, train_loss=0.0154]\n",
      "Epoch 12: \n",
      "Losses: train = 0.01534916, test = 0.01724493\n",
      "Test: accuracy = 0.98543312\n",
      "Test: precision = 0.94412242\n",
      "Test: recall = 0.93254695\n",
      "Test: f1_score = 0.93765328\n",
      "new maximum score 0.98543312\n",
      "Saving state_dict... done.\n",
      "Epoch 13: 100%|██████████| 48814/48814 [02:08<00:00, 380.17it/s, train_loss=0.0151]\n",
      "Epoch 13: \n",
      "Losses: train = 0.01473361, test = 0.01722773\n",
      "Test: accuracy = 0.98516305\n",
      "Test: precision = 0.94804210\n",
      "Test: recall = 0.93273217\n",
      "Test: f1_score = 0.93899019\n",
      "BAD EPOCHS: 1 (<< <)\n",
      "Epoch 14: 100%|██████████| 48814/48814 [02:09<00:00, 367.54it/s, train_loss=0.014] \n",
      "Epoch 14: \n",
      "Losses: train = 0.01402699, test = 0.01694235\n",
      "Test: accuracy = 0.98593950\n",
      "Test: precision = 0.94745711\n",
      "Test: recall = 0.93445447\n",
      "Test: f1_score = 0.93957464\n",
      "new maximum score 0.98593950\n",
      "Saving state_dict... done.\n",
      "Epoch 15: 100%|██████████| 48814/48814 [02:09<00:00, 365.06it/s, train_loss=0.0135]\n",
      "Epoch 15: \n",
      "Losses: train = 0.01335661, test = 0.01672192\n",
      "Test: accuracy = 0.98574539\n",
      "Test: precision = 0.95068966\n",
      "Test: recall = 0.93365389\n",
      "Test: f1_score = 0.94063689\n",
      "BAD EPOCHS: 1 (<< <)\n",
      "Epoch 16: 100%|██████████| 48814/48814 [02:08<00:00, 377.08it/s, train_loss=0.0134]\n",
      "Epoch 16: \n",
      "Losses: train = 0.01303946, test = 0.01696799\n",
      "Test: accuracy = 0.98583823\n",
      "Test: precision = 0.95283028\n",
      "Test: recall = 0.93032746\n",
      "Test: f1_score = 0.93997577\n",
      "BAD EPOCHS: 1 (<< >)\n",
      "Epoch 17: 100%|██████████| 48814/48814 [02:09<00:00, 381.89it/s, train_loss=0.0125]\n",
      "Epoch 17: \n",
      "Losses: train = 0.01243441, test = 0.01664281\n",
      "Test: accuracy = 0.98648808\n",
      "Test: precision = 0.95290337\n",
      "Test: recall = 0.94113263\n",
      "Test: f1_score = 0.94615043\n",
      "new maximum score 0.98648808\n",
      "Saving state_dict... done.\n",
      "Epoch 18: 100%|██████████| 48814/48814 [02:08<00:00, 380.50it/s, train_loss=0.0125]\n",
      "Epoch 18: \n",
      "Losses: train = 0.01200257, test = 0.01689393\n",
      "Test: accuracy = 0.98617582\n",
      "Test: precision = 0.95079211\n",
      "Test: recall = 0.94045866\n",
      "Test: f1_score = 0.94479630\n",
      "BAD EPOCHS: 1 (<< <)\n",
      "Epoch 19: 100%|██████████| 48814/48814 [02:08<00:00, 360.34it/s, train_loss=0.0116]\n",
      "Epoch 19: \n",
      "Losses: train = 0.01154340, test = 0.01701757\n",
      "Test: accuracy = 0.98642901\n",
      "Test: precision = 0.95406570\n",
      "Test: recall = 0.93996738\n",
      "Test: f1_score = 0.94610927\n",
      "BAD EPOCHS: 1 (<< >)\n",
      "Epoch 20: 100%|██████████| 48814/48814 [02:09<00:00, 358.18it/s, train_loss=0.0113]\n",
      "Epoch 20: \n",
      "Losses: train = 0.01112134, test = 0.01679337\n",
      "Test: accuracy = 0.98647964\n",
      "Test: precision = 0.94337204\n",
      "Test: recall = 0.93199101\n",
      "Test: f1_score = 0.93732885\n",
      "BAD EPOCHS: 1 (<< >)\n",
      "Epoch 21: 100%|██████████| 48814/48814 [02:07<00:00, 367.73it/s, train_loss=0.0109]\n",
      "Epoch 21: \n",
      "Losses: train = 0.01077623, test = 0.01663880\n",
      "Test: accuracy = 0.98670751\n",
      "Test: precision = 0.95285370\n",
      "Test: recall = 0.93460287\n",
      "Test: f1_score = 0.94220110\n",
      "new maximum score 0.98670751\n",
      "Saving state_dict... done.\n",
      "Epoch 22: 100%|██████████| 48814/48814 [02:09<00:00, 373.71it/s, train_loss=0.0106] \n",
      "Epoch 22: \n",
      "Losses: train = 0.01034027, test = 0.01636708\n",
      "Test: accuracy = 0.98685099\n",
      "Test: precision = 0.94573067\n",
      "Test: recall = 0.94109271\n",
      "Test: f1_score = 0.94331821\n",
      "new maximum score 0.98685099\n",
      "Saving state_dict... done.\n",
      "Epoch 23: 100%|██████████| 48814/48814 [02:08<00:00, 374.01it/s, train_loss=0.0103] \n",
      "Epoch 23: \n",
      "Losses: train = 0.00998313, test = 0.01681624\n",
      "Test: accuracy = 0.98680035\n",
      "Test: precision = 0.95607788\n",
      "Test: recall = 0.94055477\n",
      "Test: f1_score = 0.94733901\n",
      "BAD EPOCHS: 1 (<< <)\n",
      "Epoch 24: 100%|██████████| 48814/48814 [02:08<00:00, 379.85it/s, train_loss=0.00987]\n",
      "Epoch 24: \n",
      "Losses: train = 0.00967899, test = 0.01732931\n",
      "Test: accuracy = 0.98682567\n",
      "Test: precision = 0.95560131\n",
      "Test: recall = 0.93921272\n",
      "Test: f1_score = 0.94651257\n",
      "BAD EPOCHS: 1 (<< >)\n",
      "Epoch 25: 100%|██████████| 48814/48814 [02:09<00:00, 391.00it/s, train_loss=0.00918]\n",
      "Epoch 25: \n",
      "Losses: train = 0.00928215, test = 0.01737911\n",
      "Test: accuracy = 0.98651340\n",
      "Test: precision = 0.95254374\n",
      "Test: recall = 0.93834565\n",
      "Test: f1_score = 0.94462055\n",
      "BAD EPOCHS: 2 (<< <)\n",
      "Epoch 26: 100%|██████████| 48814/48814 [02:08<00:00, 367.57it/s, train_loss=0.00936]\n",
      "Epoch 26: \n",
      "Losses: train = 0.00903925, test = 0.01701644\n",
      "Test: accuracy = 0.98707042\n",
      "Test: precision = 0.95084718\n",
      "Test: recall = 0.93577948\n",
      "Test: f1_score = 0.94191415\n",
      "new maximum score 0.98707042\n",
      "Saving state_dict... done.\n",
      "Epoch 27: 100%|██████████| 48814/48814 [02:09<00:00, 367.68it/s, train_loss=0.00924]\n",
      "Epoch 27: \n",
      "Losses: train = 0.00870488, test = 0.01719160\n",
      "Test: accuracy = 0.98678347\n",
      "Test: precision = 0.95397095\n",
      "Test: recall = 0.93980483\n",
      "Test: f1_score = 0.94603385\n",
      "BAD EPOCHS: 1 (<< <)\n",
      "Epoch 28: 100%|██████████| 48814/48814 [02:09<00:00, 377.75it/s, train_loss=0.00845]\n",
      "Epoch 28: \n",
      "Losses: train = 0.00844066, test = 0.01756837\n",
      "Test: accuracy = 0.98680879\n",
      "Test: precision = 0.95419742\n",
      "Test: recall = 0.94102611\n",
      "Test: f1_score = 0.94673280\n",
      "BAD EPOCHS: 1 (<< >)\n",
      "Epoch 29: 100%|██████████| 48814/48814 [02:08<00:00, 378.61it/s, train_loss=0.00849]\n",
      "Epoch 29: \n",
      "Losses: train = 0.00820084, test = 0.01778322\n",
      "Test: accuracy = 0.98740801\n",
      "Test: precision = 0.95773892\n",
      "Test: recall = 0.94019987\n",
      "Test: f1_score = 0.94795522\n",
      "new maximum score 0.98740801\n",
      "Saving state_dict... done.\n",
      "Epoch 30: 100%|██████████| 48814/48814 [02:09<00:00, 388.41it/s, train_loss=0.00814]\n",
      "Epoch 30: \n",
      "Losses: train = 0.00808125, test = 0.01803358\n",
      "Test: accuracy = 0.98684255\n",
      "Test: precision = 0.95627716\n",
      "Test: recall = 0.93912748\n",
      "Test: f1_score = 0.94668681\n",
      "BAD EPOCHS: 1 (<< <)\n",
      "Epoch 31: 100%|██████████| 48814/48814 [02:08<00:00, 349.28it/s, train_loss=0.00824]\n",
      "Epoch 31: \n",
      "Losses: train = 0.00763090, test = 0.01761146\n",
      "Test: accuracy = 0.98710418\n",
      "Test: precision = 0.95439542\n",
      "Test: recall = 0.94230431\n",
      "Test: f1_score = 0.94751662\n",
      "BAD EPOCHS: 1 (<< >)\n",
      "Epoch 32: 100%|██████████| 48814/48814 [02:09<00:00, 377.33it/s, train_loss=0.00726]\n",
      "Epoch 32: \n",
      "Losses: train = 0.00746424, test = 0.01856993\n",
      "Test: accuracy = 0.98707042\n",
      "Test: precision = 0.96033082\n",
      "Test: recall = 0.94145638\n",
      "Test: f1_score = 0.94907540\n",
      "BAD EPOCHS: 2 (<< <)\n",
      "Epoch 33: 100%|██████████| 48814/48814 [02:08<00:00, 377.91it/s, train_loss=0.00748]\n",
      "Epoch 33: \n",
      "Losses: train = 0.00729225, test = 0.01779527\n",
      "Test: accuracy = 0.98725609\n",
      "Test: precision = 0.96186508\n",
      "Test: recall = 0.94173702\n",
      "Test: f1_score = 0.94992177\n",
      "BAD EPOCHS: 2 (<< >)\n",
      "Epoch 34: 100%|██████████| 48814/48814 [02:08<00:00, 363.02it/s, train_loss=0.00708]\n",
      "Epoch 34: \n",
      "Losses: train = 0.00699690, test = 0.01869449\n",
      "Test: accuracy = 0.98653872\n",
      "Test: precision = 0.96159790\n",
      "Test: recall = 0.93962832\n",
      "Test: f1_score = 0.94873718\n",
      "BAD EPOCHS: 3 (<< <)\n",
      "Epoch 35: 100%|██████████| 48814/48814 [02:09<00:00, 367.36it/s, train_loss=0.00725]\n",
      "Epoch 35: \n",
      "Losses: train = 0.00681741, test = 0.01875177\n",
      "Test: accuracy = 0.98707886\n",
      "Test: precision = 0.96003712\n",
      "Test: recall = 0.94120764\n",
      "Test: f1_score = 0.94886649\n",
      "BAD EPOCHS: 3 (<< >)\n",
      "Epoch 36: 100%|██████████| 48814/48814 [02:08<00:00, 380.03it/s, train_loss=0.00676]\n",
      "Epoch 36: \n",
      "Losses: train = 0.00656578, test = 0.01848313\n",
      "Test: accuracy = 0.98739113\n",
      "Test: precision = 0.95724524\n",
      "Test: recall = 0.93978120\n",
      "Test: f1_score = 0.94747629\n",
      "BAD EPOCHS: 3 (<< >)\n",
      "Epoch 37: 100%|██████████| 48814/48814 [02:09<00:00, 351.82it/s, train_loss=0.00665]\n",
      "Epoch 37: \n",
      "Losses: train = 0.00639850, test = 0.01915474\n",
      "Test: accuracy = 0.98705354\n",
      "Test: precision = 0.96039508\n",
      "Test: recall = 0.94062007\n",
      "Test: f1_score = 0.94871375\n",
      "BAD EPOCHS: 4 (<< <)\n",
      "Epoch 38: 100%|██████████| 48814/48814 [02:08<00:00, 343.51it/s, train_loss=0.0063] \n",
      "Epoch 38: \n",
      "Losses: train = 0.00619461, test = 0.01933640\n",
      "Test: accuracy = 0.98713794\n",
      "Test: precision = 0.95541007\n",
      "Test: recall = 0.94093543\n",
      "Test: f1_score = 0.94728079\n",
      "BAD EPOCHS: 4 (<< >)\n",
      "Epoch 39: 100%|██████████| 48814/48814 [02:08<00:00, 358.13it/s, train_loss=0.00634]\n",
      "Epoch 39: \n",
      "Losses: train = 0.00600151, test = 0.01998428\n",
      "Test: accuracy = 0.98691007\n",
      "Test: precision = 0.95326195\n",
      "Test: recall = 0.94102924\n",
      "Test: f1_score = 0.94631779\n",
      "BAD EPOCHS: 5 (<< <)\n",
      "Maximum bad epochs exceeded. Process has been stopped. Best score 0.9874080075619472 (on epoch 29)\n",
      "Elapsed time: 1h 29m 46s\n",
      "\n",
      "MODEL TUNING\n",
      "Loading state_dict... done.\n",
      "Epoch 1: 100%|██████████| 48814/48814 [02:06<00:00, 357.79it/s, train_loss=0.00693]\n",
      "Epoch 1: \n",
      "Losses: train = 0.00718928, test = 0.01750740\n",
      "Test: accuracy = 0.98741645\n",
      "Test: precision = 0.95654077\n",
      "Test: recall = 0.94041534\n",
      "Test: f1_score = 0.94754210\n",
      "new maximum score 0.98741645\n",
      "Saving state_dict... done.\n",
      "Epoch 2: 100%|██████████| 48814/48814 [02:05<00:00, 371.21it/s, train_loss=0.00728]\n",
      "Epoch 2: \n",
      "Losses: train = 0.00716769, test = 0.01762094\n",
      "Test: accuracy = 0.98752616\n",
      "Test: precision = 0.95685431\n",
      "Test: recall = 0.94101576\n",
      "Test: f1_score = 0.94802393\n",
      "new maximum score 0.98752616\n",
      "Saving state_dict... done.\n",
      "Epoch 3: 100%|██████████| 48814/48814 [02:06<00:00, 365.77it/s, train_loss=0.00691]\n",
      "Epoch 3: \n",
      "Losses: train = 0.00708554, test = 0.01761477\n",
      "Test: accuracy = 0.98753460\n",
      "Test: precision = 0.95696405\n",
      "Test: recall = 0.94085128\n",
      "Test: f1_score = 0.94799495\n",
      "new maximum score 0.98753460\n",
      "Saving state_dict... done.\n",
      "Epoch 4: 100%|██████████| 48814/48814 [02:06<00:00, 356.91it/s, train_loss=0.00707]\n",
      "Epoch 4: \n",
      "Losses: train = 0.00699219, test = 0.01765107\n",
      "Test: accuracy = 0.98759368\n",
      "Test: precision = 0.95669694\n",
      "Test: recall = 0.94120329\n",
      "Test: f1_score = 0.94804070\n",
      "new maximum score 0.98759368\n",
      "Saving state_dict... done.\n",
      "Epoch 5: 100%|██████████| 48814/48814 [02:06<00:00, 396.22it/s, train_loss=0.00685]\n",
      "Epoch 5: \n",
      "Losses: train = 0.00696520, test = 0.01741870\n",
      "Test: accuracy = 0.98764432\n",
      "Test: precision = 0.95702321\n",
      "Test: recall = 0.94115801\n",
      "Test: f1_score = 0.94817663\n",
      "new maximum score 0.98764432\n",
      "Saving state_dict... done.\n",
      "Epoch 6: 100%|██████████| 48814/48814 [02:06<00:00, 369.54it/s, train_loss=0.00678]\n",
      "Epoch 6: \n",
      "Losses: train = 0.00704652, test = 0.01741678\n",
      "Test: accuracy = 0.98758524\n",
      "Test: precision = 0.95697732\n",
      "Test: recall = 0.94123324\n",
      "Test: f1_score = 0.94819554\n",
      "BAD EPOCHS: 1 (<< <)\n",
      "Epoch 7: 100%|██████████| 48814/48814 [02:05<00:00, 361.68it/s, train_loss=0.00681]\n",
      "Epoch 7: \n",
      "Losses: train = 0.00678096, test = 0.01762790\n",
      "Test: accuracy = 0.98761056\n",
      "Test: precision = 0.95687478\n",
      "Test: recall = 0.94116024\n",
      "Test: f1_score = 0.94810770\n",
      "BAD EPOCHS: 1 (<< >)\n",
      "Epoch 8: 100%|██████████| 48814/48814 [02:06<00:00, 379.54it/s, train_loss=0.00677]\n",
      "Epoch 8: \n",
      "Losses: train = 0.00676588, test = 0.01715903\n",
      "Test: accuracy = 0.98758524\n",
      "Test: precision = 0.95674112\n",
      "Test: recall = 0.94116469\n",
      "Test: f1_score = 0.94804346\n",
      "BAD EPOCHS: 2 (<< <)\n",
      "Epoch 9: 100%|██████████| 48814/48814 [02:06<00:00, 366.84it/s, train_loss=0.00671]\n",
      "Epoch 9: \n",
      "Losses: train = 0.00678109, test = 0.01736568\n",
      "Test: accuracy = 0.98762744\n",
      "Test: precision = 0.95686061\n",
      "Test: recall = 0.94126430\n",
      "Test: f1_score = 0.94815222\n",
      "BAD EPOCHS: 2 (<< >)\n",
      "Epoch 10: 100%|██████████| 48814/48814 [02:05<00:00, 382.17it/s, train_loss=0.00672]\n",
      "Epoch 10: \n",
      "Losses: train = 0.00672848, test = 0.01742164\n",
      "Test: accuracy = 0.98766964\n",
      "Test: precision = 0.95685070\n",
      "Test: recall = 0.94135635\n",
      "Test: f1_score = 0.94819481\n",
      "new maximum score 0.98766964\n",
      "Saving state_dict... done.\n",
      "Epoch 11: 100%|██████████| 48814/48814 [02:07<00:00, 381.12it/s, train_loss=0.00656]\n",
      "Epoch 11: \n",
      "Losses: train = 0.00662596, test = 0.01723357\n",
      "Test: accuracy = 0.98774559\n",
      "Test: precision = 0.95696942\n",
      "Test: recall = 0.94141807\n",
      "Test: f1_score = 0.94828310\n",
      "new maximum score 0.98774559\n",
      "Saving state_dict... done.\n",
      "Epoch 12: 100%|██████████| 48814/48814 [02:05<00:00, 384.29it/s, train_loss=0.0066] \n",
      "Epoch 12: \n",
      "Losses: train = 0.00668874, test = 0.01719744\n",
      "Test: accuracy = 0.98772028\n",
      "Test: precision = 0.95690037\n",
      "Test: recall = 0.94141012\n",
      "Test: f1_score = 0.94824531\n",
      "BAD EPOCHS: 1 (<< <)\n",
      "Epoch 13: 100%|██████████| 48814/48814 [02:06<00:00, 399.09it/s, train_loss=0.00679]\n",
      "Epoch 13: \n",
      "Losses: train = 0.00670400, test = 0.01710227\n",
      "Test: accuracy = 0.98770340\n",
      "Test: precision = 0.95681433\n",
      "Test: recall = 0.94150609\n",
      "Test: f1_score = 0.94825181\n",
      "BAD EPOCHS: 2 (<< <)\n",
      "Epoch 14: 100%|██████████| 48814/48814 [02:06<00:00, 379.77it/s, train_loss=0.00691]\n",
      "Epoch 14: \n",
      "Losses: train = 0.00668922, test = 0.01749679\n",
      "Test: accuracy = 0.98765276\n",
      "Test: precision = 0.95690793\n",
      "Test: recall = 0.94118770\n",
      "Test: f1_score = 0.94813568\n",
      "BAD EPOCHS: 3 (<< <)\n",
      "Epoch 15: 100%|██████████| 48814/48814 [02:06<00:00, 387.16it/s, train_loss=0.00672]\n",
      "Epoch 15: \n",
      "Losses: train = 0.00653269, test = 0.01765818\n",
      "Test: accuracy = 0.98772028\n",
      "Test: precision = 0.95687421\n",
      "Test: recall = 0.94135865\n",
      "Test: f1_score = 0.94820582\n",
      "BAD EPOCHS: 3 (<< >)\n",
      "Epoch 16: 100%|██████████| 48814/48814 [02:07<00:00, 382.95it/s, train_loss=0.00665]\n",
      "Epoch 16: \n",
      "Losses: train = 0.00659187, test = 0.01766584\n",
      "Test: accuracy = 0.98772028\n",
      "Test: precision = 0.95698810\n",
      "Test: recall = 0.94130368\n",
      "Test: f1_score = 0.94823509\n",
      "BAD EPOCHS: 4 (<< =)\n",
      "Epoch 17: 100%|██████████| 48814/48814 [02:06<00:00, 386.60it/s, train_loss=0.00664]\n",
      "Epoch 17: \n",
      "Losses: train = 0.00655004, test = 0.01733201\n",
      "Test: accuracy = 0.98766120\n",
      "Test: precision = 0.95679237\n",
      "Test: recall = 0.94142114\n",
      "Test: f1_score = 0.94819914\n",
      "BAD EPOCHS: 5 (<< <)\n",
      "Maximum bad epochs exceeded. Process has been stopped. Best score 0.9877455944905813 (on epoch 11)\n",
      "Elapsed time: 38m 25s\n",
      "\n",
      "=== UPOS TAGGER TRAINING HAS FINISHED === Total time: 2h 11m 11s ===\n",
      "\n",
      "Use the `.load('upos-ft_model')` method to start working with the UPOS tagger.\n"
     ]
    }
   ],
   "source": [
    "tagger = UposTagger(embs=globals()['tagger'].embs\n",
    "                             if 'tagger' in globals() else\n",
    "                         None)\n",
    "tagger.load_train_corpus(corpus.train)\n",
    "tagger.load_test_corpus(corpus.dev)\n",
    "\n",
    "_ = tagger.train(MODEL_FN, device='cuda:11', word_emb_type='ft',\n",
    "                 word_emb_path=FT_MODEL_FN,\n",
    "                 rnn_emb_dim=300, cnn_emb_dim=None, cnn_kernels=range(1, 7),\n",
    "                 lstm_layers=1, seed=SEED)"
   ]
  },
  {
   "cell_type": "code",
   "execution_count": 3,
   "metadata": {},
   "outputs": [
    {
     "name": "stdout",
     "output_type": "stream",
     "text": [
      "Loading dataset... done.\n",
      "Creating model... done.\n",
      "Loading state_dict... done.\n",
      "Fit corpus dict... done.\n"
     ]
    }
   ],
   "source": [
    "res_dev = 'corpora/_dev_' + MODEL_FN.replace('_model', '.conllu')\n",
    "res_test = 'corpora/_test_' + MODEL_FN.replace('_model', '.conllu')\n",
    "tagger = UposTagger(embs=globals()['tagger'].embs\n",
    "                             if 'tagger' in globals() else\n",
    "                         None)\n",
    "tagger.load(MODEL_FN)\n",
    "junky.clear_tqdm()"
   ]
  },
  {
   "cell_type": "code",
   "execution_count": 4,
   "metadata": {
    "scrolled": true
   },
   "outputs": [
    {
     "name": "stderr",
     "output_type": "stream",
     "text": [
      "Load corpus\n",
      "[=======] 6584                                                     \n",
      "Corpus has been loaded: 6584 sentences, 118692 tokens\n"
     ]
    }
   ],
   "source": [
    "_ = tagger.predict(corpus.dev, clone_ds=True, save_to=res_dev)"
   ]
  },
  {
   "cell_type": "code",
   "execution_count": 5,
   "metadata": {},
   "outputs": [
    {
     "name": "stdout",
     "output_type": "stream",
     "text": [
      "Evaluating UPOS\n"
     ]
    },
    {
     "name": "stderr",
     "output_type": "stream",
     "text": [
      "Load corpus\n",
      "[======> 6100                                                      "
     ]
    },
    {
     "name": "stdout",
     "output_type": "stream",
     "text": [
      "Processing corpus\n",
      "  0%|          | 0/6584 [00:00<?, ?it/s]"
     ]
    },
    {
     "name": "stderr",
     "output_type": "stream",
     "text": [
      "[=======] 6584                                                     \n",
      "Corpus has been loaded: 6584 sentences, 118692 tokens\n"
     ]
    },
    {
     "name": "stdout",
     "output_type": "stream",
     "text": [
      "100%|██████████| 6584/6584 [00:12<00:00, 548.21it/s]\n",
      "UPOS total: 118488\n",
      "   correct: 117036\n",
      "     wrong: 1452\n",
      "  Accuracy: 0.9877455944905813\n",
      "[By sentence accuracy: 0.8201701093560145]\n"
     ]
    }
   ],
   "source": [
    "_ = tagger.evaluate(corpus.dev)"
   ]
  },
  {
   "cell_type": "code",
   "execution_count": 6,
   "metadata": {
    "scrolled": false
   },
   "outputs": [
    {
     "name": "stdout",
     "output_type": "stream",
     "text": [
      "Evaluating UPOS\n",
      "Load corpus\n",
      "[> 800                                                            "
     ]
    },
    {
     "name": "stderr",
     "output_type": "stream",
     "text": [
      "Load corpus\n",
      "[> 800                                                            "
     ]
    },
    {
     "name": "stdout",
     "output_type": "stream",
     "text": [
      "[=> 1800                                                           "
     ]
    },
    {
     "name": "stderr",
     "output_type": "stream",
     "text": [
      "[=> 1800                                                           "
     ]
    },
    {
     "name": "stdout",
     "output_type": "stream",
     "text": [
      "[===> 3600                                                         "
     ]
    },
    {
     "name": "stderr",
     "output_type": "stream",
     "text": [
      "[===> 3600                                                         "
     ]
    },
    {
     "name": "stdout",
     "output_type": "stream",
     "text": [
      "[====> 4500                                                        "
     ]
    },
    {
     "name": "stderr",
     "output_type": "stream",
     "text": [
      "[====> 4500                                                        "
     ]
    },
    {
     "name": "stdout",
     "output_type": "stream",
     "text": [
      "[=====> 5600                                                       "
     ]
    },
    {
     "name": "stderr",
     "output_type": "stream",
     "text": [
      "[=====> 5600                                                       "
     ]
    },
    {
     "name": "stdout",
     "output_type": "stream",
     "text": [
      "[=======] 6584                                                     \n",
      "Corpus has been loaded: 6584 sentences, 118692 tokens\n",
      "UPOS total: 118488\n",
      "   correct: 117036\n",
      "     wrong: 1452\n",
      "  Accuracy: 0.9877455944905813\n",
      "[By sentence accuracy: 0.8201701093560145]\n"
     ]
    },
    {
     "name": "stderr",
     "output_type": "stream",
     "text": [
      "[=======] 6584                                                     \n",
      "Corpus has been loaded: 6584 sentences, 118692 tokens\n"
     ]
    }
   ],
   "source": [
    "_ = tagger.evaluate(corpus.dev, res_dev)"
   ]
  },
  {
   "cell_type": "code",
   "execution_count": 7,
   "metadata": {
    "scrolled": true
   },
   "outputs": [
    {
     "name": "stderr",
     "output_type": "stream",
     "text": [
      "Load corpus\n",
      "[=======] 6491                                                     "
     ]
    },
    {
     "name": "stdout",
     "output_type": "stream",
     "text": [
      "Processing corpus\n",
      "100%|██████████| 6491/6491 [00:11<00:00, 547.56it/s]\n"
     ]
    },
    {
     "name": "stderr",
     "output_type": "stream",
     "text": [
      "\n",
      "Corpus has been loaded: 6491 sentences, 117523 tokens\n"
     ]
    }
   ],
   "source": [
    "_ = tagger.predict(corpus.test, save_to=res_test)"
   ]
  },
  {
   "cell_type": "code",
   "execution_count": 8,
   "metadata": {},
   "outputs": [
    {
     "name": "stdout",
     "output_type": "stream",
     "text": [
      "Evaluating UPOS\n"
     ]
    },
    {
     "name": "stderr",
     "output_type": "stream",
     "text": [
      "Load corpus\n",
      "[=======] 6491                                                     \n",
      "Corpus has been loaded: 6491 sentences, 117523 tokens\n"
     ]
    },
    {
     "name": "stdout",
     "output_type": "stream",
     "text": [
      "UPOS total: 117329\n",
      "   correct: 116027\n",
      "     wrong: 1302\n",
      "  Accuracy: 0.9889029992584953\n",
      "[By sentence accuracy: 0.8260668618086582]\n"
     ]
    }
   ],
   "source": [
    "_ = tagger.evaluate(corpus.test, clone_ds=True)"
   ]
  },
  {
   "cell_type": "code",
   "execution_count": 9,
   "metadata": {
    "scrolled": false
   },
   "outputs": [
    {
     "name": "stdout",
     "output_type": "stream",
     "text": [
      "Evaluating UPOS\n",
      "Load corpus\n",
      "[> 800                                                            "
     ]
    },
    {
     "name": "stderr",
     "output_type": "stream",
     "text": [
      "Load corpus\n",
      "[> 800                                                            "
     ]
    },
    {
     "name": "stdout",
     "output_type": "stream",
     "text": [
      "[====> 4300                                                        "
     ]
    },
    {
     "name": "stderr",
     "output_type": "stream",
     "text": [
      "[====> 4300                                                        "
     ]
    },
    {
     "name": "stdout",
     "output_type": "stream",
     "text": [
      "[======> 6400                                                      "
     ]
    },
    {
     "name": "stderr",
     "output_type": "stream",
     "text": [
      "[======> 6400                                                      "
     ]
    },
    {
     "name": "stdout",
     "output_type": "stream",
     "text": [
      "[=======] 6491                                                     \n",
      "Corpus has been loaded: 6491 sentences, 117523 tokens\n",
      "UPOS total: 117329\n",
      "   correct: 116027\n",
      "     wrong: 1302\n",
      "  Accuracy: 0.9889029992584953\n",
      "[By sentence accuracy: 0.8260668618086582]\n"
     ]
    },
    {
     "name": "stderr",
     "output_type": "stream",
     "text": [
      "[=======] 6491                                                     \n",
      "Corpus has been loaded: 6491 sentences, 117523 tokens\n"
     ]
    }
   ],
   "source": [
    "_ = tagger.evaluate(corpus.test, res_test)"
   ]
  },
  {
   "cell_type": "code",
   "execution_count": 10,
   "metadata": {},
   "outputs": [
    {
     "name": "stderr",
     "output_type": "stream",
     "text": [
      "Load corpus\n",
      "[=======] 6491                                                     \n",
      "Corpus has been loaded: 6491 sentences, 117523 tokens\n"
     ]
    },
    {
     "name": "stdout",
     "output_type": "stream",
     "text": [
      "Load corpus\n",
      "[=======] 6491                                                     \n",
      "Corpus has been loaded: 6491 sentences, 117523 tokens\n",
      "ADJ: 0.9641299510458389\n",
      "ADP: 0.9987852494577006\n",
      "ADV: 0.953822988121131\n",
      "AUX: 0.9293023255813954\n",
      "CCONJ: 0.9646643109540636\n",
      "DET: 0.9359692092372288\n",
      "INTJ: 0.5833333333333334\n",
      "NOUN: 0.9879952813822774\n",
      "NUM: 0.9703405346027096\n",
      "PART: 0.9360210341805434\n",
      "PRON: 0.9583984375\n",
      "PROPN: 0.9602237414543194\n",
      "PUNCT: 1.0\n",
      "SCONJ: 0.9270588235294117\n",
      "SYM: 1.0\n",
      "VERB: 0.9784617734667379\n",
      "X: 0.7272727272727273\n"
     ]
    }
   ],
   "source": [
    "corp_gold = list(corpus.test())\n",
    "corp_test = list(tagger._get_corpus(res_test))\n",
    "tags = sorted(set(x['UPOS'] for x in corp_gold\n",
    "                            for x in x[0] if x['UPOS']))\n",
    "for tag in tags:\n",
    "    print('{}: {}'.format(\n",
    "        tag, tagger.evaluate(corp_gold, corp_test,\n",
    "                             label=tag, log_file=None)\n",
    "    ))"
   ]
  },
  {
   "cell_type": "markdown",
   "metadata": {},
   "source": [
    "## FEATS"
   ]
  },
  {
   "cell_type": "code",
   "execution_count": 11,
   "metadata": {},
   "outputs": [],
   "source": [
    "from corpuscula.corpus_utils import download_ud, UniversalDependencies, \\\n",
    "                                    AdjustedForSpeech\n",
    "import junky\n",
    "from mordl import FeatsTagger\n",
    "\n",
    "FT_MODEL_FN = 'ft_native_300_ru_wiki_lenta_nltk_wordpunct_tokenize.bin'\n",
    "MODEL_FN = 'feats-ft_model'\n",
    "SEED=42\n",
    "\n",
    "# we use UD Taiga corpus only as example. For real model training comment\n",
    "# Taiga and uncomment SynTagRus\n",
    "#corpus_name = 'UD_Russian-Taiga'\n",
    "corpus_name = 'UD_Russian-SynTagRus'\n",
    "download_ud(corpus_name, overwrite=False)\n",
    "corpus = UniversalDependencies(corpus_name)\n",
    "#corpus = AdjustedForSpeech(corpus)"
   ]
  },
  {
   "cell_type": "code",
   "execution_count": 12,
   "metadata": {
    "scrolled": true
   },
   "outputs": [
    {
     "name": "stderr",
     "output_type": "stream",
     "text": [
      "Train: Load corpus\n",
      "[=================================================] 48814           \n",
      "Corpus has been loaded: 48814 sentences, 871526 tokens\n",
      "Test: Load corpus\n",
      "[======> 6100                                                      "
     ]
    },
    {
     "name": "stdout",
     "output_type": "stream",
     "text": [
      "=== FEATS TAGGER TRAINING PIPELINE ===\n",
      "\n",
      "DATASETS CREATION\n",
      "\n",
      "MODEL CREATION\n",
      "Config saved\n",
      "\n",
      "MODEL TRAINING\n",
      "Epoch 1: 100%|██████████| 48814/48814 [02:13<00:00, 336.69it/s, train_loss=0.183]\n",
      "Epoch 1: \n",
      "Losses: train = 0.39967257, test = 0.10713421\n",
      "Test: accuracy = 0.91929984\n",
      "Test: precision = 0.39796246\n",
      "Test: recall = 0.39602833\n",
      "Test: f1_score = 0.37890660\n",
      "new maximum score 0.91929984\n",
      "Saving state_dict... done.\n",
      "Epoch 2: 100%|██████████| 48814/48814 [02:14<00:00, 292.85it/s, train_loss=0.0979]\n",
      "Epoch 2: \n",
      "Losses: train = 0.11360265, test = 0.06761854\n",
      "Test: accuracy = 0.94667814\n",
      "Test: precision = 0.53970678\n",
      "Test: recall = 0.52545652\n",
      "Test: f1_score = 0.51340330\n",
      "new maximum score 0.94667814\n",
      "Saving state_dict... "
     ]
    },
    {
     "name": "stderr",
     "output_type": "stream",
     "text": [
      "[=======] 6584                                                     \n",
      "Corpus has been loaded: 6584 sentences, 118692 tokens\n",
      "/usr/local/lib/python3.5/dist-packages/sklearn/metrics/classification.py:1145: UndefinedMetricWarning: Recall is ill-defined and being set to 0.0 in labels with no true samples.\n",
      "  'recall', 'true', average, warn_for)\n",
      "/usr/local/lib/python3.5/dist-packages/sklearn/metrics/classification.py:1145: UndefinedMetricWarning: F-score is ill-defined and being set to 0.0 in labels with no true samples.\n",
      "  'recall', 'true', average, warn_for)\n"
     ]
    },
    {
     "name": "stdout",
     "output_type": "stream",
     "text": [
      "done.\n",
      "Epoch 3: 100%|██████████| 48814/48814 [03:28<00:00, 233.80it/s, train_loss=0.0729]\n",
      "Epoch 3: \n",
      "Losses: train = 0.07926444, test = 0.05386320\n",
      "Test: accuracy = 0.95716866\n",
      "Test: precision = 0.62164002\n",
      "Test: recall = 0.60808066\n",
      "Test: f1_score = 0.59730130\n",
      "new maximum score 0.95716866\n",
      "Saving state_dict... done.\n",
      "Epoch 4: 100%|██████████| 48814/48814 [02:17<00:00, 344.66it/s, train_loss=0.0623]\n",
      "Epoch 4: \n",
      "Losses: train = 0.06480450, test = 0.04718846\n",
      "Test: accuracy = 0.96284012\n",
      "Test: precision = 0.68296218\n",
      "Test: recall = 0.66734046\n",
      "Test: f1_score = 0.65840958\n",
      "new maximum score 0.96284012\n",
      "Saving state_dict... done.\n",
      "Epoch 5: 100%|██████████| 48814/48814 [02:16<00:00, 335.33it/s, train_loss=0.0541]\n",
      "Epoch 5: \n",
      "Losses: train = 0.05573969, test = 0.04299810\n",
      "Test: accuracy = 0.96641010\n",
      "Test: precision = 0.70598300\n",
      "Test: recall = 0.68768654\n",
      "Test: f1_score = 0.68195494\n",
      "new maximum score 0.96641010\n",
      "Saving state_dict... done.\n",
      "Epoch 6: 100%|██████████| 48814/48814 [02:15<00:00, 338.25it/s, train_loss=0.0479]\n",
      "Epoch 6: \n",
      "Losses: train = 0.04963125, test = 0.04012078\n",
      "Test: accuracy = 0.96906860\n",
      "Test: precision = 0.72853117\n",
      "Test: recall = 0.71825118\n",
      "Test: f1_score = 0.71079738\n",
      "new maximum score 0.96906860\n",
      "Saving state_dict... done.\n",
      "Epoch 7: 100%|██████████| 48814/48814 [02:12<00:00, 361.16it/s, train_loss=0.0442]\n",
      "Epoch 7: \n",
      "Losses: train = 0.04533295, test = 0.03769464\n",
      "Test: accuracy = 0.97082405\n",
      "Test: precision = 0.74827631\n",
      "Test: recall = 0.73482921\n",
      "Test: f1_score = 0.73017930\n",
      "new maximum score 0.97082405\n",
      "Saving state_dict... done.\n",
      "Epoch 8: 100%|██████████| 48814/48814 [02:13<00:00, 351.93it/s, train_loss=0.0425]\n",
      "Epoch 8: \n",
      "Losses: train = 0.04177086, test = 0.03602970\n",
      "Test: accuracy = 0.97211532\n",
      "Test: precision = 0.77048881\n",
      "Test: recall = 0.75634642\n",
      "Test: f1_score = 0.75032299\n",
      "new maximum score 0.97211532\n",
      "Saving state_dict... done.\n",
      "Epoch 9: 100%|██████████| 48814/48814 [02:12<00:00, 333.01it/s, train_loss=0.0381]\n",
      "Epoch 9: \n",
      "Losses: train = 0.03884703, test = 0.03507333\n",
      "Test: accuracy = 0.97293397\n",
      "Test: precision = 0.78570182\n",
      "Test: recall = 0.75895032\n",
      "Test: f1_score = 0.75823777\n",
      "new maximum score 0.97293397\n",
      "Saving state_dict... done.\n",
      "Epoch 10: 100%|██████████| 48814/48814 [02:11<00:00, 355.09it/s, train_loss=0.0364]\n",
      "Epoch 10: \n",
      "Losses: train = 0.03674943, test = 0.03388190\n",
      "Test: accuracy = 0.97398049\n",
      "Test: precision = 0.78384598\n",
      "Test: recall = 0.76942439\n",
      "Test: f1_score = 0.76640243\n",
      "new maximum score 0.97398049\n",
      "Saving state_dict... done.\n",
      "Epoch 11: 100%|██████████| 48814/48814 [02:13<00:00, 363.19it/s, train_loss=0.0339]\n",
      "Epoch 11: \n",
      "Losses: train = 0.03445521, test = 0.03287412\n",
      "Test: accuracy = 0.97490885\n",
      "Test: precision = 0.78287914\n",
      "Test: recall = 0.76719977\n",
      "Test: f1_score = 0.76431269\n",
      "new maximum score 0.97490885\n",
      "Saving state_dict... done.\n",
      "Epoch 12: 100%|██████████| 48814/48814 [02:12<00:00, 368.33it/s, train_loss=0.0336]\n",
      "Epoch 12: \n",
      "Losses: train = 0.03273275, test = 0.03246015\n",
      "Test: accuracy = 0.97514516\n",
      "Test: precision = 0.79560299\n",
      "Test: recall = 0.78456230\n",
      "Test: f1_score = 0.77888311\n",
      "new maximum score 0.97514516\n",
      "Saving state_dict... done.\n",
      "Epoch 13: 100%|██████████| 48814/48814 [02:12<00:00, 367.93it/s, train_loss=0.0314]\n",
      "Epoch 13: \n",
      "Losses: train = 0.03134240, test = 0.03236567\n",
      "Test: accuracy = 0.97563466\n",
      "Test: precision = 0.79346798\n",
      "Test: recall = 0.78849038\n",
      "Test: f1_score = 0.78161079\n",
      "new maximum score 0.97563466\n",
      "Saving state_dict... done.\n",
      "Epoch 14: 100%|██████████| 48814/48814 [02:12<00:00, 338.29it/s, train_loss=0.03]  \n",
      "Epoch 14: \n",
      "Losses: train = 0.02997937, test = 0.03176159\n",
      "Test: accuracy = 0.97607353\n",
      "Test: precision = 0.80120051\n",
      "Test: recall = 0.79608389\n",
      "Test: f1_score = 0.78955797\n",
      "new maximum score 0.97607353\n",
      "Saving state_dict... done.\n",
      "Epoch 15: 100%|██████████| 48814/48814 [02:12<00:00, 367.55it/s, train_loss=0.0287]\n",
      "Epoch 15: \n",
      "Losses: train = 0.02866828, test = 0.03119863\n",
      "Test: accuracy = 0.97647863\n",
      "Test: precision = 0.81812425\n",
      "Test: recall = 0.80465648\n",
      "Test: f1_score = 0.80116168\n",
      "new maximum score 0.97647863\n",
      "Saving state_dict... done.\n",
      "Epoch 16: 100%|██████████| 48814/48814 [02:15<00:00, 361.89it/s, train_loss=0.0277]\n",
      "Epoch 16: \n",
      "Losses: train = 0.02733507, test = 0.03162493\n",
      "Test: accuracy = 0.97648707\n",
      "Test: precision = 0.80480291\n",
      "Test: recall = 0.79533289\n",
      "Test: f1_score = 0.79087092\n",
      "new maximum score 0.97648707\n",
      "Saving state_dict... done.\n",
      "Epoch 17: 100%|██████████| 48814/48814 [02:12<00:00, 351.94it/s, train_loss=0.0268]\n",
      "Epoch 17: \n",
      "Losses: train = 0.02615556, test = 0.03111503\n",
      "Test: accuracy = 0.97720444\n",
      "Test: precision = 0.80799662\n",
      "Test: recall = 0.80033548\n",
      "Test: f1_score = 0.79495691\n",
      "new maximum score 0.97720444\n",
      "Saving state_dict... done.\n",
      "Epoch 18: 100%|██████████| 48814/48814 [02:12<00:00, 371.82it/s, train_loss=0.0259]\n",
      "Epoch 18: \n",
      "Losses: train = 0.02550225, test = 0.03037378\n",
      "Test: accuracy = 0.97752515\n",
      "Test: precision = 0.80525813\n",
      "Test: recall = 0.79281999\n",
      "Test: f1_score = 0.78965210\n",
      "new maximum score 0.97752515\n",
      "Saving state_dict... done.\n",
      "Epoch 19: 100%|██████████| 48814/48814 [02:15<00:00, 361.35it/s, train_loss=0.0253]\n",
      "Epoch 19: \n",
      "Losses: train = 0.02443910, test = 0.03058544\n",
      "Test: accuracy = 0.97805685\n",
      "Test: precision = 0.81859581\n",
      "Test: recall = 0.80560243\n",
      "Test: f1_score = 0.80205828\n",
      "new maximum score 0.97805685\n",
      "Saving state_dict... done.\n",
      "Epoch 20: 100%|██████████| 48814/48814 [02:13<00:00, 366.17it/s, train_loss=0.0241]\n",
      "Epoch 20: \n",
      "Losses: train = 0.02353967, test = 0.03093442\n",
      "Test: accuracy = 0.97776146\n",
      "Test: precision = 0.82051060\n",
      "Test: recall = 0.81526011\n",
      "Test: f1_score = 0.80821027\n",
      "BAD EPOCHS: 1 (<< <)\n",
      "Epoch 21: 100%|██████████| 48814/48814 [02:12<00:00, 321.35it/s, train_loss=0.023] \n",
      "Epoch 21: \n",
      "Losses: train = 0.02290143, test = 0.03113476\n",
      "Test: accuracy = 0.97819188\n",
      "Test: precision = 0.81492321\n",
      "Test: recall = 0.81312533\n",
      "Test: f1_score = 0.80572872\n",
      "new maximum score 0.97819188\n",
      "Saving state_dict... done.\n",
      "Epoch 22: 100%|██████████| 48814/48814 [02:17<00:00, 361.64it/s, train_loss=0.0224]\n",
      "Epoch 22: \n",
      "Losses: train = 0.02206022, test = 0.03022189\n",
      "Test: accuracy = 0.97803997\n",
      "Test: precision = 0.81953563\n",
      "Test: recall = 0.81260068\n",
      "Test: f1_score = 0.80550917\n",
      "BAD EPOCHS: 1 (<< <)\n",
      "Epoch 23: 100%|██████████| 48814/48814 [02:17<00:00, 344.06it/s, train_loss=0.0213]\n",
      "Epoch 23: \n",
      "Losses: train = 0.02114216, test = 0.03066078\n",
      "Test: accuracy = 0.97840288\n",
      "Test: precision = 0.82348685\n",
      "Test: recall = 0.81610967\n",
      "Test: f1_score = 0.81149417\n",
      "new maximum score 0.97840288\n",
      "Saving state_dict... done.\n",
      "Epoch 24: 100%|██████████| 48814/48814 [02:13<00:00, 375.63it/s, train_loss=0.0209]\n",
      "Epoch 24: \n",
      "Losses: train = 0.02067291, test = 0.03059106\n",
      "Test: accuracy = 0.97828472\n",
      "Test: precision = 0.81941803\n",
      "Test: recall = 0.80803261\n",
      "Test: f1_score = 0.80390140\n",
      "BAD EPOCHS: 1 (<< <)\n",
      "Epoch 25: 100%|██████████| 48814/48814 [02:11<00:00, 376.98it/s, train_loss=0.0207]\n",
      "Epoch 25: \n",
      "Losses: train = 0.02007673, test = 0.03073430\n",
      "Test: accuracy = 0.97823408\n",
      "Test: precision = 0.83076006\n",
      "Test: recall = 0.81636232\n",
      "Test: f1_score = 0.81403315\n",
      "BAD EPOCHS: 2 (<< <)\n",
      "Epoch 26: 100%|██████████| 48814/48814 [02:12<00:00, 359.43it/s, train_loss=0.0204]\n",
      "Epoch 26: \n",
      "Losses: train = 0.01933617, test = 0.03110350\n",
      "Test: accuracy = 0.97851259\n",
      "Test: precision = 0.81822435\n",
      "Test: recall = 0.81017382\n",
      "Test: f1_score = 0.80592706\n",
      "new maximum score 0.97851259\n",
      "Saving state_dict... done.\n",
      "Epoch 27: 100%|██████████| 48814/48814 [02:12<00:00, 368.33it/s, train_loss=0.0195]\n",
      "Epoch 27: \n",
      "Losses: train = 0.01877516, test = 0.03146375\n",
      "Test: accuracy = 0.97814969\n",
      "Test: precision = 0.82939141\n",
      "Test: recall = 0.81896211\n",
      "Test: f1_score = 0.81538542\n",
      "BAD EPOCHS: 1 (<< <)\n",
      "Epoch 28: 100%|██████████| 48814/48814 [02:13<00:00, 359.74it/s, train_loss=0.0189]\n",
      "Epoch 28: \n",
      "Losses: train = 0.01847997, test = 0.03111132\n",
      "Test: accuracy = 0.97859699\n",
      "Test: precision = 0.81899911\n",
      "Test: recall = 0.81814495\n",
      "Test: f1_score = 0.81033667\n",
      "new maximum score 0.97859699\n",
      "Saving state_dict... done.\n",
      "Epoch 29: 100%|██████████| 48814/48814 [02:15<00:00, 362.48it/s, train_loss=0.018] \n",
      "Epoch 29: \n",
      "Losses: train = 0.01767846, test = 0.03085002\n",
      "Test: accuracy = 0.97863919\n",
      "Test: precision = 0.82252742\n",
      "Test: recall = 0.81571012\n",
      "Test: f1_score = 0.81036964\n",
      "new maximum score 0.97863919\n",
      "Saving state_dict... done.\n",
      "Epoch 30: 100%|██████████| 48814/48814 [02:12<00:00, 339.46it/s, train_loss=0.0181]\n",
      "Epoch 30: \n",
      "Losses: train = 0.01756876, test = 0.03175428\n",
      "Test: accuracy = 0.97892614\n",
      "Test: precision = 0.82350186\n",
      "Test: recall = 0.81336004\n",
      "Test: f1_score = 0.80942762\n",
      "new maximum score 0.97892614\n",
      "Saving state_dict... done.\n",
      "Epoch 31: 100%|██████████| 48814/48814 [02:16<00:00, 327.92it/s, train_loss=0.0172]\n",
      "Epoch 31: \n",
      "Losses: train = 0.01697713, test = 0.03196993\n",
      "Test: accuracy = 0.97846195\n",
      "Test: precision = 0.82787477\n",
      "Test: recall = 0.82247262\n",
      "Test: f1_score = 0.81701372\n",
      "BAD EPOCHS: 1 (<< <)\n",
      "Epoch 32: 100%|██████████| 48814/48814 [02:17<00:00, 359.32it/s, train_loss=0.0168]\n",
      "Epoch 32: \n",
      "Losses: train = 0.01646173, test = 0.03120948\n",
      "Test: accuracy = 0.97898521\n",
      "Test: precision = 0.82011513\n",
      "Test: recall = 0.81148526\n",
      "Test: f1_score = 0.80755501\n",
      "new maximum score 0.97898521\n",
      "Saving state_dict... done.\n",
      "Epoch 33: 100%|██████████| 48814/48814 [02:16<00:00, 342.16it/s, train_loss=0.0166]\n",
      "Epoch 33: \n",
      "Losses: train = 0.01605231, test = 0.03099989\n",
      "Test: accuracy = 0.97911181\n",
      "Test: precision = 0.83004099\n",
      "Test: recall = 0.81837019\n",
      "Test: f1_score = 0.81495919\n",
      "new maximum score 0.97911181\n",
      "Saving state_dict... done.\n",
      "Epoch 34: 100%|██████████| 48814/48814 [02:17<00:00, 354.88it/s, train_loss=0.0157]\n",
      "Epoch 34: \n",
      "Losses: train = 0.01550676, test = 0.03165748\n",
      "Test: accuracy = 0.97877422\n",
      "Test: precision = 0.81949997\n",
      "Test: recall = 0.80752395\n",
      "Test: f1_score = 0.80537093\n",
      "BAD EPOCHS: 1 (<< <)\n",
      "Epoch 35: 100%|██████████| 48814/48814 [02:16<00:00, 355.17it/s, train_loss=0.0158]\n",
      "Epoch 35: \n",
      "Losses: train = 0.01524341, test = 0.03182316\n",
      "Test: accuracy = 0.97888394\n",
      "Test: precision = 0.82597239\n",
      "Test: recall = 0.81993229\n",
      "Test: f1_score = 0.81535799\n",
      "BAD EPOCHS: 1 (<< >)\n",
      "Epoch 36: 100%|██████████| 48814/48814 [02:17<00:00, 342.03it/s, train_loss=0.0152]\n",
      "Epoch 36: \n",
      "Losses: train = 0.01475596, test = 0.03302459\n",
      "Test: accuracy = 0.97867295\n",
      "Test: precision = 0.82722457\n",
      "Test: recall = 0.81827803\n",
      "Test: f1_score = 0.81423580\n",
      "BAD EPOCHS: 2 (<< <)\n",
      "Epoch 37: 100%|██████████| 48814/48814 [02:17<00:00, 327.06it/s, train_loss=0.0148]\n",
      "Epoch 37: \n",
      "Losses: train = 0.01435967, test = 0.03226816\n",
      "Test: accuracy = 0.97912869\n",
      "Test: precision = 0.83376390\n",
      "Test: recall = 0.82877715\n",
      "Test: f1_score = 0.82363679\n",
      "new maximum score 0.97912869\n",
      "Saving state_dict... done.\n",
      "Epoch 38: 100%|██████████| 48814/48814 [02:17<00:00, 354.13it/s, train_loss=0.0146]\n",
      "Epoch 38: \n",
      "Losses: train = 0.01416142, test = 0.03255640\n",
      "Test: accuracy = 0.97908649\n",
      "Test: precision = 0.81999848\n",
      "Test: recall = 0.81002150\n",
      "Test: f1_score = 0.80717377\n",
      "BAD EPOCHS: 1 (<< <)\n",
      "Epoch 39: 100%|██████████| 48814/48814 [02:17<00:00, 353.88it/s, train_loss=0.014] \n",
      "Epoch 39: \n",
      "Losses: train = 0.01378933, test = 0.03293731\n",
      "Test: accuracy = 0.97932280\n",
      "Test: precision = 0.82630080\n",
      "Test: recall = 0.82272041\n",
      "Test: f1_score = 0.81691500\n",
      "new maximum score 0.97932280\n",
      "Saving state_dict... done.\n",
      "Epoch 40: 100%|██████████| 48814/48814 [02:17<00:00, 355.89it/s, train_loss=0.0141]\n",
      "Epoch 40: \n",
      "Losses: train = 0.01350279, test = 0.03283873\n",
      "Test: accuracy = 0.97891770\n",
      "Test: precision = 0.82027309\n",
      "Test: recall = 0.81725364\n",
      "Test: f1_score = 0.81129980\n",
      "BAD EPOCHS: 1 (<< <)\n",
      "Epoch 41: 100%|██████████| 48814/48814 [02:17<00:00, 353.98it/s, train_loss=0.0136]\n",
      "Epoch 41: \n",
      "Losses: train = 0.01313381, test = 0.03315400\n",
      "Test: accuracy = 0.97886706\n",
      "Test: precision = 0.81764719\n",
      "Test: recall = 0.81008816\n",
      "Test: f1_score = 0.80627398\n",
      "BAD EPOCHS: 2 (<< <)\n",
      "Epoch 42: 100%|██████████| 48814/48814 [02:16<00:00, 367.86it/s, train_loss=0.0134]\n",
      "Epoch 42: \n",
      "Losses: train = 0.01281041, test = 0.03327616\n",
      "Test: accuracy = 0.97870670\n",
      "Test: precision = 0.82059669\n",
      "Test: recall = 0.81329940\n",
      "Test: f1_score = 0.80873777\n",
      "BAD EPOCHS: 3 (<< <)\n",
      "Epoch 43: 100%|██████████| 48814/48814 [02:17<00:00, 344.60it/s, train_loss=0.0128]\n",
      "Epoch 43: \n",
      "Losses: train = 0.01232889, test = 0.03320002\n",
      "Test: accuracy = 0.97933124\n",
      "Test: precision = 0.82583886\n",
      "Test: recall = 0.81655459\n",
      "Test: f1_score = 0.81294856\n",
      "new maximum score 0.97933124\n",
      "Saving state_dict... done.\n",
      "Epoch 44: 100%|██████████| 48814/48814 [02:18<00:00, 340.30it/s, train_loss=0.0127]\n",
      "Epoch 44: \n",
      "Losses: train = 0.01217331, test = 0.03389940\n",
      "Test: accuracy = 0.97932280\n",
      "Test: precision = 0.82389551\n",
      "Test: recall = 0.81743673\n",
      "Test: f1_score = 0.81265668\n",
      "BAD EPOCHS: 1 (<< <)\n",
      "Epoch 45: 100%|██████████| 48814/48814 [02:17<00:00, 354.40it/s, train_loss=0.0121]\n",
      "Epoch 45: \n",
      "Losses: train = 0.01188785, test = 0.03416015\n",
      "Test: accuracy = 0.97914557\n",
      "Test: precision = 0.82291529\n",
      "Test: recall = 0.81599056\n",
      "Test: f1_score = 0.81252563\n",
      "BAD EPOCHS: 2 (<< <)\n",
      "Epoch 46: 100%|██████████| 48814/48814 [02:18<00:00, 343.51it/s, train_loss=0.0119]\n",
      "Epoch 46: \n",
      "Losses: train = 0.01155267, test = 0.03484423\n",
      "Test: accuracy = 0.97896833\n",
      "Test: precision = 0.81925973\n",
      "Test: recall = 0.81002881\n",
      "Test: f1_score = 0.80533177\n",
      "BAD EPOCHS: 3 (<< <)\n",
      "Epoch 47: 100%|██████████| 48814/48814 [02:16<00:00, 358.39it/s, train_loss=0.0121]\n",
      "Epoch 47: \n",
      "Losses: train = 0.01138371, test = 0.03526296\n",
      "Test: accuracy = 0.97941564\n",
      "Test: precision = 0.83113504\n",
      "Test: recall = 0.82217185\n",
      "Test: f1_score = 0.81836963\n",
      "new maximum score 0.97941564\n",
      "Saving state_dict... done.\n",
      "Epoch 48: 100%|██████████| 48814/48814 [02:17<00:00, 325.98it/s, train_loss=0.0113]\n",
      "Epoch 48: \n",
      "Losses: train = 0.01109505, test = 0.03499469\n",
      "Test: accuracy = 0.97919621\n",
      "Test: precision = 0.82623159\n",
      "Test: recall = 0.81528355\n",
      "Test: f1_score = 0.81237353\n",
      "BAD EPOCHS: 1 (<< <)\n",
      "Epoch 49: 100%|██████████| 48814/48814 [02:17<00:00, 354.03it/s, train_loss=0.0114]\n",
      "Epoch 49: \n",
      "Losses: train = 0.01113199, test = 0.03526417\n",
      "Test: accuracy = 0.97895989\n",
      "Test: precision = 0.81917971\n",
      "Test: recall = 0.81168007\n",
      "Test: f1_score = 0.80807901\n",
      "BAD EPOCHS: 2 (<< <)\n",
      "Epoch 50: 100%|██████████| 48814/48814 [02:18<00:00, 353.55it/s, train_loss=0.0114]\n",
      "Epoch 50: \n",
      "Losses: train = 0.01073373, test = 0.03501339\n",
      "Test: accuracy = 0.97912025\n",
      "Test: precision = 0.81977875\n",
      "Test: recall = 0.81445965\n",
      "Test: f1_score = 0.80925659\n",
      "BAD EPOCHS: 2 (<< >)\n",
      "Epoch 51: 100%|██████████| 48814/48814 [02:17<00:00, 354.18it/s, train_loss=0.0113] \n",
      "Epoch 51: \n",
      "Losses: train = 0.01044322, test = 0.03639314\n",
      "Test: accuracy = 0.97947471\n",
      "Test: precision = 0.82481090\n",
      "Test: recall = 0.82006111\n",
      "Test: f1_score = 0.81536230\n",
      "new maximum score 0.97947471\n",
      "Saving state_dict... done.\n",
      "Epoch 52: 100%|██████████| 48814/48814 [02:16<00:00, 358.53it/s, train_loss=0.0107] \n",
      "Epoch 52: \n",
      "Losses: train = 0.01018064, test = 0.03622685\n",
      "Test: accuracy = 0.97936500\n",
      "Test: precision = 0.82568760\n",
      "Test: recall = 0.82380603\n",
      "Test: f1_score = 0.81678614\n",
      "BAD EPOCHS: 1 (<< <)\n",
      "Epoch 53: 100%|██████████| 48814/48814 [02:16<00:00, 358.65it/s, train_loss=0.0103] \n",
      "Epoch 53: \n",
      "Losses: train = 0.00988397, test = 0.03610063\n",
      "Test: accuracy = 0.97927216\n",
      "Test: precision = 0.82679121\n",
      "Test: recall = 0.81916955\n",
      "Test: f1_score = 0.81438027\n",
      "BAD EPOCHS: 2 (<< <)\n",
      "Epoch 54: 100%|██████████| 48814/48814 [02:17<00:00, 354.77it/s, train_loss=0.0101] \n",
      "Epoch 54: \n",
      "Losses: train = 0.00978189, test = 0.03666975\n",
      "Test: accuracy = 0.97895989\n",
      "Test: precision = 0.82410547\n",
      "Test: recall = 0.81441667\n",
      "Test: f1_score = 0.81102448\n",
      "BAD EPOCHS: 3 (<< <)\n",
      "Epoch 55: 100%|██████████| 48814/48814 [02:16<00:00, 347.99it/s, train_loss=0.00977]\n",
      "Epoch 55: \n",
      "Losses: train = 0.00952364, test = 0.03700676\n",
      "Test: accuracy = 0.97904429\n",
      "Test: precision = 0.83474997\n",
      "Test: recall = 0.81971560\n",
      "Test: f1_score = 0.81944742\n",
      "BAD EPOCHS: 3 (<< >)\n",
      "Epoch 56: 100%|██████████| 48814/48814 [02:17<00:00, 354.39it/s, train_loss=0.00942]\n",
      "Epoch 56: \n",
      "Losses: train = 0.00927697, test = 0.03712768\n",
      "Test: accuracy = 0.97897677\n",
      "Test: precision = 0.82819131\n",
      "Test: recall = 0.82135798\n",
      "Test: f1_score = 0.81827069\n",
      "BAD EPOCHS: 4 (<< <)\n",
      "Epoch 57: 100%|██████████| 48814/48814 [02:15<00:00, 330.63it/s, train_loss=0.00939]\n",
      "Epoch 57: \n",
      "Losses: train = 0.00933874, test = 0.03848224\n",
      "Test: accuracy = 0.97885018\n",
      "Test: precision = 0.82932992\n",
      "Test: recall = 0.81915400\n",
      "Test: f1_score = 0.81479410\n",
      "BAD EPOCHS: 5 (<< <)\n",
      "Maximum bad epochs exceeded. Process has been stopped. Best score 0.9794747147390453 (on epoch 51)\n",
      "Elapsed time: 2h 19m 24s\n",
      "\n",
      "MODEL TUNING\n",
      "Loading state_dict... done.\n",
      "Epoch 1: 100%|██████████| 48814/48814 [02:13<00:00, 366.23it/s, train_loss=0.0091] \n",
      "Epoch 1: \n",
      "Losses: train = 0.00923420, test = 0.03503193\n",
      "Test: accuracy = 0.97973634\n",
      "Test: precision = 0.82743073\n",
      "Test: recall = 0.82125881\n",
      "Test: f1_score = 0.81771707\n",
      "new maximum score 0.97973634\n",
      "Saving state_dict... done.\n",
      "Epoch 2: 100%|██████████| 48814/48814 [02:15<00:00, 347.48it/s, train_loss=0.00919]\n",
      "Epoch 2: \n",
      "Losses: train = 0.00889504, test = 0.03454595\n",
      "Test: accuracy = 0.97965195\n",
      "Test: precision = 0.82779745\n",
      "Test: recall = 0.81966787\n",
      "Test: f1_score = 0.81634591\n",
      "BAD EPOCHS: 1 (<< <)\n",
      "Epoch 3: 100%|██████████| 48814/48814 [02:14<00:00, 362.71it/s, train_loss=0.00887]\n",
      "Epoch 3: \n",
      "Losses: train = 0.00884430, test = 0.03429646\n",
      "Test: accuracy = 0.97986294\n",
      "Test: precision = 0.82683850\n",
      "Test: recall = 0.81829353\n",
      "Test: f1_score = 0.81540470\n",
      "new maximum score 0.97986294\n",
      "Saving state_dict... done.\n",
      "Epoch 4: 100%|██████████| 48814/48814 [02:15<00:00, 361.06it/s, train_loss=0.00877]\n",
      "Epoch 4: \n",
      "Losses: train = 0.00865781, test = 0.03423120\n",
      "Test: accuracy = 0.97980386\n",
      "Test: precision = 0.82711881\n",
      "Test: recall = 0.81777355\n",
      "Test: f1_score = 0.81504324\n",
      "BAD EPOCHS: 1 (<< <)\n",
      "Epoch 5: 100%|██████████| 48814/48814 [02:13<00:00, 333.64it/s, train_loss=0.00859]\n",
      "Epoch 5: \n",
      "Losses: train = 0.00859324, test = 0.03491918\n",
      "Test: accuracy = 0.97987138\n",
      "Test: precision = 0.82760680\n",
      "Test: recall = 0.81848545\n",
      "Test: f1_score = 0.81585999\n",
      "new maximum score 0.97987138\n",
      "Saving state_dict... done.\n",
      "Epoch 6: 100%|██████████| 48814/48814 [02:13<00:00, 366.12it/s, train_loss=0.00847]\n",
      "Epoch 6: \n",
      "Losses: train = 0.00854100, test = 0.03526253\n",
      "Test: accuracy = 0.97984606\n",
      "Test: precision = 0.83030080\n",
      "Test: recall = 0.81942658\n",
      "Test: f1_score = 0.81737737\n",
      "BAD EPOCHS: 1 (<< <)\n",
      "Epoch 7: 100%|██████████| 48814/48814 [02:14<00:00, 364.90it/s, train_loss=0.00866]\n",
      "Epoch 7: \n",
      "Losses: train = 0.00857712, test = 0.03467991\n",
      "Test: accuracy = 0.97998110\n",
      "Test: precision = 0.83131022\n",
      "Test: recall = 0.82031028\n",
      "Test: f1_score = 0.81844203\n",
      "new maximum score 0.97998110\n",
      "Saving state_dict... done.\n",
      "Epoch 8: 100%|██████████| 48814/48814 [02:15<00:00, 361.32it/s, train_loss=0.00822]\n",
      "Epoch 8: \n",
      "Losses: train = 0.00829620, test = 0.03523277\n",
      "Test: accuracy = 0.97998953\n",
      "Test: precision = 0.83251040\n",
      "Test: recall = 0.82300966\n",
      "Test: f1_score = 0.82037117\n",
      "new maximum score 0.97998953\n",
      "Saving state_dict... done.\n",
      "Epoch 9: 100%|██████████| 48814/48814 [02:15<00:00, 361.55it/s, train_loss=0.00843]\n",
      "Epoch 9: \n",
      "Losses: train = 0.00826724, test = 0.03487749\n",
      "Test: accuracy = 0.98009081\n",
      "Test: precision = 0.83291335\n",
      "Test: recall = 0.82288027\n",
      "Test: f1_score = 0.82040124\n",
      "new maximum score 0.98009081\n",
      "Saving state_dict... done.\n",
      "Epoch 10: 100%|██████████| 48814/48814 [02:12<00:00, 348.30it/s, train_loss=0.00833]\n",
      "Epoch 10: \n",
      "Losses: train = 0.00829061, test = 0.03511136\n",
      "Test: accuracy = 0.97992202\n",
      "Test: precision = 0.83221391\n",
      "Test: recall = 0.82131565\n",
      "Test: f1_score = 0.81900909\n",
      "BAD EPOCHS: 1 (<< <)\n",
      "Epoch 11: 100%|██████████| 48814/48814 [02:12<00:00, 386.40it/s, train_loss=0.0084] \n",
      "Epoch 11: \n",
      "Losses: train = 0.00843551, test = 0.03450226\n",
      "Test: accuracy = 0.98002329\n",
      "Test: precision = 0.83376114\n",
      "Test: recall = 0.82184379\n",
      "Test: f1_score = 0.81996988\n",
      "BAD EPOCHS: 1 (<< >)\n",
      "Epoch 12: 100%|██████████| 48814/48814 [02:15<00:00, 361.33it/s, train_loss=0.0084] \n",
      "Epoch 12: \n",
      "Losses: train = 0.00821272, test = 0.03322795\n",
      "Test: accuracy = 0.98005705\n",
      "Test: precision = 0.83135003\n",
      "Test: recall = 0.82130311\n",
      "Test: f1_score = 0.81852638\n",
      "BAD EPOCHS: 1 (<< >)\n",
      "Epoch 13: 100%|██████████| 48814/48814 [02:14<00:00, 362.16it/s, train_loss=0.00783]\n",
      "Epoch 13: \n",
      "Losses: train = 0.00813717, test = 0.03498022\n",
      "Test: accuracy = 0.97996422\n",
      "Test: precision = 0.83216535\n",
      "Test: recall = 0.82220190\n",
      "Test: f1_score = 0.81970426\n",
      "BAD EPOCHS: 2 (<< <)\n",
      "Epoch 14: 100%|██████████| 48814/48814 [02:15<00:00, 349.65it/s, train_loss=0.00807]\n",
      "Epoch 14: \n",
      "Losses: train = 0.00811211, test = 0.03564572\n",
      "Test: accuracy = 0.97995578\n",
      "Test: precision = 0.83040773\n",
      "Test: recall = 0.82026509\n",
      "Test: f1_score = 0.81825494\n",
      "BAD EPOCHS: 3 (<< <)\n",
      "Epoch 15: 100%|██████████| 48814/48814 [02:12<00:00, 315.09it/s, train_loss=0.00809]\n",
      "Epoch 15: \n",
      "Losses: train = 0.00819320, test = 0.03549750\n",
      "Test: accuracy = 0.97999797\n",
      "Test: precision = 0.83165268\n",
      "Test: recall = 0.81930734\n",
      "Test: f1_score = 0.81782582\n",
      "BAD EPOCHS: 3 (<< >)\n",
      "Epoch 16: 100%|██████████| 48814/48814 [02:13<00:00, 365.61it/s, train_loss=0.00828]\n",
      "Epoch 16: \n",
      "Losses: train = 0.00814142, test = 0.03467953\n",
      "Test: accuracy = 0.98001485\n",
      "Test: precision = 0.83212268\n",
      "Test: recall = 0.82036365\n",
      "Test: f1_score = 0.81834311\n",
      "BAD EPOCHS: 3 (<< >)\n",
      "Epoch 17: 100%|██████████| 48814/48814 [02:14<00:00, 363.61it/s, train_loss=0.00822]\n",
      "Epoch 17: \n",
      "Losses: train = 0.00803078, test = 0.03534258\n",
      "Test: accuracy = 0.98002329\n",
      "Test: precision = 0.83268430\n",
      "Test: recall = 0.82132201\n",
      "Test: f1_score = 0.81913903\n",
      "BAD EPOCHS: 3 (<< >)\n",
      "Epoch 18: 100%|██████████| 48814/48814 [02:14<00:00, 363.26it/s, train_loss=0.00786]\n",
      "Epoch 18: \n",
      "Losses: train = 0.00799455, test = 0.03527193\n",
      "Test: accuracy = 0.98006549\n",
      "Test: precision = 0.83371716\n",
      "Test: recall = 0.82129196\n",
      "Test: f1_score = 0.81952108\n",
      "BAD EPOCHS: 3 (<< >)\n",
      "Epoch 19: 100%|██████████| 48814/48814 [02:15<00:00, 359.96it/s, train_loss=0.00767]\n",
      "Epoch 19: \n",
      "Losses: train = 0.00788759, test = 0.03528997\n",
      "Test: accuracy = 0.98003173\n",
      "Test: precision = 0.83252895\n",
      "Test: recall = 0.82124659\n",
      "Test: f1_score = 0.81903307\n",
      "BAD EPOCHS: 4 (<< <)\n",
      "Epoch 20: 100%|██████████| 48814/48814 [02:13<00:00, 353.98it/s, train_loss=0.00788]\n",
      "Epoch 20: \n",
      "Losses: train = 0.00789678, test = 0.03503002\n",
      "Test: accuracy = 0.98001485\n",
      "Test: precision = 0.83134429\n",
      "Test: recall = 0.82061734\n",
      "Test: f1_score = 0.81833880\n",
      "BAD EPOCHS: 5 (<< <)\n",
      "Maximum bad epochs exceeded. Process has been stopped. Best score 0.9800908108838026 (on epoch 9)\n",
      "Elapsed time: 48m 6s\n",
      "\n",
      "=== FEATS TAGGER TRAINING HAS FINISHED === Total time: 3h 8m 17s ===\n",
      "\n",
      "Use the `.load('feats-ft_model')` method to start working with the FEATS tagger.\n"
     ]
    }
   ],
   "source": [
    "tagger = FeatsTagger(embs=globals()['tagger'].embs\n",
    "                              if 'tagger' in globals() else\n",
    "                          None)\n",
    "tagger.load_train_corpus(corpus.train)\n",
    "tagger.load_test_corpus(corpus.dev)\n",
    "\n",
    "_ = tagger.train(MODEL_FN, device='cuda:11', word_emb_type='ft',\n",
    "                 word_emb_path=FT_MODEL_FN,\n",
    "                 rnn_emb_dim=300, cnn_emb_dim=None, cnn_kernels=range(1, 7),\n",
    "                 upos_emb_dim=200, lstm_layers=1, seed=SEED)"
   ]
  },
  {
   "cell_type": "code",
   "execution_count": 13,
   "metadata": {},
   "outputs": [
    {
     "name": "stdout",
     "output_type": "stream",
     "text": [
      "Loading dataset... done.\n",
      "Creating model... done.\n",
      "Loading state_dict... done.\n",
      "Fit corpus dict... done.\n"
     ]
    }
   ],
   "source": [
    "res_dev = 'corpora/_dev_' + MODEL_FN.replace('_model', '.conllu')\n",
    "res_test = 'corpora/_test_' + MODEL_FN.replace('_model', '.conllu')\n",
    "tagger = FeatsTagger(embs=globals()['tagger'].embs\n",
    "                              if 'tagger' in globals() else\n",
    "                          None)\n",
    "tagger.load(MODEL_FN)\n",
    "junky.clear_tqdm()"
   ]
  },
  {
   "cell_type": "code",
   "execution_count": 14,
   "metadata": {
    "scrolled": true
   },
   "outputs": [
    {
     "name": "stderr",
     "output_type": "stream",
     "text": [
      "Load corpus\n",
      "[=======] 6584                                                     \n",
      "Corpus has been loaded: 6584 sentences, 118692 tokens\n"
     ]
    }
   ],
   "source": [
    "_ = tagger.predict(corpus.dev, clone_ds=True, save_to=res_dev)"
   ]
  },
  {
   "cell_type": "code",
   "execution_count": 15,
   "metadata": {},
   "outputs": [
    {
     "name": "stdout",
     "output_type": "stream",
     "text": [
      "Evaluating FEATS\n"
     ]
    },
    {
     "name": "stderr",
     "output_type": "stream",
     "text": [
      "Load corpus\n",
      "[=======] 6584                                                     \n",
      "Corpus has been loaded: 6584 sentences, 118692 tokens\n"
     ]
    },
    {
     "name": "stdout",
     "output_type": "stream",
     "text": [
      "Processing corpus\n",
      "100%|██████████| 6584/6584 [00:12<00:00, 510.46it/s]\n",
      "FEATS total: 118488 tokens, 287136 tags\n",
      "    correct: 116129 tokens, 283802 tags\n",
      "      wrong: 2359 tokens, 3334 tags [296 excess / 412 absent / 2626 wrong type]\n",
      "   Accuracy: 0.9676392718493216 / 0.9883887774434414\n",
      "[Total accuracy: 0.9800908108838026 / 0.9883887774434414]\n",
      "[By sentence accuracy: 0.7595686512758202]\n"
     ]
    }
   ],
   "source": [
    "_ = tagger.evaluate(corpus.dev)"
   ]
  },
  {
   "cell_type": "code",
   "execution_count": 16,
   "metadata": {
    "scrolled": true
   },
   "outputs": [
    {
     "name": "stdout",
     "output_type": "stream",
     "text": [
      "Evaluating FEATS\n",
      "Load corpus\n",
      "[> 400                                                            "
     ]
    },
    {
     "name": "stderr",
     "output_type": "stream",
     "text": [
      "Load corpus\n",
      "[> 400                                                            "
     ]
    },
    {
     "name": "stdout",
     "output_type": "stream",
     "text": [
      "[> 1000                                                            "
     ]
    },
    {
     "name": "stderr",
     "output_type": "stream",
     "text": [
      "[=> 1100                                                           "
     ]
    },
    {
     "name": "stdout",
     "output_type": "stream",
     "text": [
      "[=> 1600                                                           "
     ]
    },
    {
     "name": "stderr",
     "output_type": "stream",
     "text": [
      "[=> 1700                                                           "
     ]
    },
    {
     "name": "stdout",
     "output_type": "stream",
     "text": [
      "[==> 2200                                                          "
     ]
    },
    {
     "name": "stderr",
     "output_type": "stream",
     "text": [
      "[==> 2400                                                          "
     ]
    },
    {
     "name": "stdout",
     "output_type": "stream",
     "text": [
      "[==> 3000                                                          "
     ]
    },
    {
     "name": "stderr",
     "output_type": "stream",
     "text": [
      "[===> 3100                                                         "
     ]
    },
    {
     "name": "stdout",
     "output_type": "stream",
     "text": [
      "[===> 3500                                                         "
     ]
    },
    {
     "name": "stderr",
     "output_type": "stream",
     "text": [
      "[===> 3900                                                         "
     ]
    },
    {
     "name": "stdout",
     "output_type": "stream",
     "text": [
      "[====> 4300                                                        "
     ]
    },
    {
     "name": "stderr",
     "output_type": "stream",
     "text": [
      "[====> 4600                                                        "
     ]
    },
    {
     "name": "stdout",
     "output_type": "stream",
     "text": [
      "[====> 5000                                                        "
     ]
    },
    {
     "name": "stderr",
     "output_type": "stream",
     "text": [
      "[=====> 5300                                                       "
     ]
    },
    {
     "name": "stdout",
     "output_type": "stream",
     "text": [
      "[=====> 5800                                                       "
     ]
    },
    {
     "name": "stderr",
     "output_type": "stream",
     "text": [
      "[======> 6100                                                      "
     ]
    },
    {
     "name": "stdout",
     "output_type": "stream",
     "text": [
      "[=======] 6584                                                     \n",
      "Corpus has been loaded: 6584 sentences, 118692 tokens\n",
      "FEATS total: 118488 tokens, 287136 tags\n",
      "    correct: 116129 tokens, 283802 tags\n",
      "      wrong: 2359 tokens, 3334 tags [296 excess / 412 absent / 2626 wrong type]\n",
      "   Accuracy: 0.9676392718493216 / 0.9883887774434414\n",
      "[Total accuracy: 0.9800908108838026 / 0.9883887774434414]\n",
      "[By sentence accuracy: 0.7595686512758202]\n"
     ]
    },
    {
     "name": "stderr",
     "output_type": "stream",
     "text": [
      "[=======] 6584                                                     \n",
      "Corpus has been loaded: 6584 sentences, 118692 tokens\n"
     ]
    }
   ],
   "source": [
    "_ = tagger.evaluate(corpus.dev, res_dev)"
   ]
  },
  {
   "cell_type": "code",
   "execution_count": 17,
   "metadata": {
    "scrolled": true
   },
   "outputs": [
    {
     "name": "stderr",
     "output_type": "stream",
     "text": [
      "Load corpus\n",
      "[=======] 6491                                                     \n",
      "Corpus has been loaded: 6491 sentences, 117523 tokens\n"
     ]
    },
    {
     "name": "stdout",
     "output_type": "stream",
     "text": [
      "Processing corpus\n",
      "100%|██████████| 6491/6491 [00:18<00:00, 355.67it/s]\n"
     ]
    }
   ],
   "source": [
    "_ = tagger.predict(corpus.test, save_to=res_test)"
   ]
  },
  {
   "cell_type": "code",
   "execution_count": 18,
   "metadata": {},
   "outputs": [
    {
     "name": "stdout",
     "output_type": "stream",
     "text": [
      "Evaluating FEATS\n"
     ]
    },
    {
     "name": "stderr",
     "output_type": "stream",
     "text": [
      "Load corpus\n",
      "[=======] 6491                                                     \n",
      "Corpus has been loaded: 6491 sentences, 117523 tokens\n"
     ]
    },
    {
     "name": "stdout",
     "output_type": "stream",
     "text": [
      "FEATS total: 117329 tokens, 285081 tags\n",
      "    correct: 115080 tokens, 281630 tags\n",
      "      wrong: 2249 tokens, 3451 tags [404 excess / 513 absent / 2534 wrong type]\n",
      "   Accuracy: 0.9688840311021334 / 0.9878946685328029\n",
      "[Total accuracy: 0.9808316784426697 / 0.9878946685328029]\n",
      "[By sentence accuracy: 0.7544292096749345]\n"
     ]
    }
   ],
   "source": [
    "_ = tagger.evaluate(corpus.test, clone_ds=True)"
   ]
  },
  {
   "cell_type": "code",
   "execution_count": 19,
   "metadata": {
    "scrolled": true
   },
   "outputs": [
    {
     "name": "stdout",
     "output_type": "stream",
     "text": [
      "Evaluating FEATS\n",
      "Load corpus\n",
      "[> 500                                                            "
     ]
    },
    {
     "name": "stderr",
     "output_type": "stream",
     "text": [
      "Load corpus\n",
      "[> 500                                                            "
     ]
    },
    {
     "name": "stdout",
     "output_type": "stream",
     "text": [
      "[=> 1400                                                           "
     ]
    },
    {
     "name": "stderr",
     "output_type": "stream",
     "text": [
      "[=> 1400                                                           "
     ]
    },
    {
     "name": "stdout",
     "output_type": "stream",
     "text": [
      "[==> 2400                                                          "
     ]
    },
    {
     "name": "stderr",
     "output_type": "stream",
     "text": [
      "[==> 2400                                                          "
     ]
    },
    {
     "name": "stdout",
     "output_type": "stream",
     "text": [
      "[==> 3000                                                          "
     ]
    },
    {
     "name": "stderr",
     "output_type": "stream",
     "text": [
      "[==> 3000                                                          "
     ]
    },
    {
     "name": "stdout",
     "output_type": "stream",
     "text": [
      "[===> 3700                                                         "
     ]
    },
    {
     "name": "stderr",
     "output_type": "stream",
     "text": [
      "[===> 3700                                                         "
     ]
    },
    {
     "name": "stdout",
     "output_type": "stream",
     "text": [
      "[====> 4300                                                        "
     ]
    },
    {
     "name": "stderr",
     "output_type": "stream",
     "text": [
      "[====> 4300                                                        "
     ]
    },
    {
     "name": "stdout",
     "output_type": "stream",
     "text": [
      "[====> 4800                                                        "
     ]
    },
    {
     "name": "stderr",
     "output_type": "stream",
     "text": [
      "[====> 4800                                                        "
     ]
    },
    {
     "name": "stdout",
     "output_type": "stream",
     "text": [
      "[=====> 5500                                                       "
     ]
    },
    {
     "name": "stderr",
     "output_type": "stream",
     "text": [
      "[=====> 5600                                                       "
     ]
    },
    {
     "name": "stdout",
     "output_type": "stream",
     "text": [
      "[=======] 6491                                                     \n",
      "Corpus has been loaded: 6491 sentences, 117523 tokens\n",
      "FEATS total: 117329 tokens, 285081 tags\n",
      "    correct: 115080 tokens, 281630 tags\n",
      "      wrong: 2249 tokens, 3451 tags [404 excess / 513 absent / 2534 wrong type]\n",
      "   Accuracy: 0.9688840311021334 / 0.9878946685328029\n",
      "[Total accuracy: 0.9808316784426697 / 0.9878946685328029]\n",
      "[By sentence accuracy: 0.7544292096749345]\n"
     ]
    },
    {
     "name": "stderr",
     "output_type": "stream",
     "text": [
      "[=======] 6491                                                     \n",
      "Corpus has been loaded: 6491 sentences, 117523 tokens\n"
     ]
    }
   ],
   "source": [
    "_ = tagger.evaluate(corpus.test, res_test)"
   ]
  },
  {
   "cell_type": "code",
   "execution_count": 20,
   "metadata": {},
   "outputs": [
    {
     "name": "stderr",
     "output_type": "stream",
     "text": [
      "Load corpus\n",
      "[=======] 6491                                                     \n",
      "Corpus has been loaded: 6491 sentences, 117523 tokens\n"
     ]
    },
    {
     "name": "stdout",
     "output_type": "stream",
     "text": [
      "Load corpus\n",
      "[=======] 6491                                                     \n",
      "Corpus has been loaded: 6491 sentences, 117523 tokens\n",
      "Animacy: 0.9847106856257919\n",
      "Aspect: 0.992854565138939\n",
      "Case: 0.9749034010482421\n",
      "Degree: 0.9981028042924053\n",
      "Foreign: 0.7627627627627628\n",
      "Gender: 0.9855458739108149\n",
      "Mood: 0.9973451327433628\n",
      "Number: 0.993028609010194\n",
      "Person: 0.998149992884588\n",
      "Polarity: 0.8666666666666667\n",
      "Tense: 0.9957154333660626\n",
      "Variant: 0.9950402975821451\n",
      "VerbForm: 0.9989173583543847\n",
      "Voice: 0.9896788163118008\n"
     ]
    }
   ],
   "source": [
    "corp_gold = list(corpus.test())\n",
    "corp_test = list(tagger._get_corpus(res_test))\n",
    "tags = sorted(set(x for x in corp_gold\n",
    "                    for x in x[0]\n",
    "                    for x in x['FEATS'].keys()))\n",
    "for tag in tags:\n",
    "    print('{}: {}'.format(\n",
    "        tag, tagger.evaluate(corp_gold, corp_test,\n",
    "                             feats=tag, log_file=None)\n",
    "    ))"
   ]
  },
  {
   "cell_type": "markdown",
   "metadata": {},
   "source": [
    "## LEMMA"
   ]
  },
  {
   "cell_type": "code",
   "execution_count": 21,
   "metadata": {},
   "outputs": [],
   "source": [
    "from corpuscula.corpus_utils import download_ud, UniversalDependencies, \\\n",
    "                                    AdjustedForSpeech\n",
    "import junky\n",
    "from mordl import LemmaTagger\n",
    "\n",
    "FT_MODEL_FN = 'ft_native_300_ru_wiki_lenta_nltk_wordpunct_tokenize.bin'\n",
    "MODEL_FN = 'lemma-ft_model'\n",
    "SEED=42\n",
    "\n",
    "# we use UD Taiga corpus only as example. For real model training comment\n",
    "# Taiga and uncomment SynTagRus\n",
    "#corpus_name = 'UD_Russian-Taiga'\n",
    "corpus_name = 'UD_Russian-SynTagRus'\n",
    "download_ud(corpus_name, overwrite=False)\n",
    "corpus = UniversalDependencies(corpus_name)\n",
    "#corpus = AdjustedForSpeech(corpus)"
   ]
  },
  {
   "cell_type": "code",
   "execution_count": 22,
   "metadata": {
    "scrolled": true
   },
   "outputs": [
    {
     "name": "stderr",
     "output_type": "stream",
     "text": [
      "Train: Load corpus\n",
      "[=================================================] 48814           \n",
      "Corpus has been loaded: 48814 sentences, 871526 tokens\n",
      "Test: Load corpus\n",
      "[======> 6300                                                      "
     ]
    },
    {
     "name": "stdout",
     "output_type": "stream",
     "text": [
      "Parse corpus\n",
      "[########################################################] 100%    \n",
      "done: 55398 sentences, 979787 acceptable tokens (plus 575 for YO letters)\n",
      "Fit corpus dict... done.\n",
      "\n",
      "Preliminary trainset preparation:\n",
      "stage 1 of 3... done.\n",
      "stage 2 of 3... done.\n",
      "Lengths: [1883 {'allow_replace': True, 'allow_copy': True},\n",
      "          1881 {'allow_replace': True, 'allow_copy': False},\n",
      "          1915 {'allow_replace': False, 'allow_copy': True},\n",
      "          1881 {'allow_replace': False, 'allow_copy': False}]\n",
      "min = {'allow_replace': True, 'allow_copy': False}\n",
      "stage 3 of 3... done.\n",
      "\n",
      "=== LEMMA TAGGER TRAINING PIPELINE ===\n",
      "\n",
      "DATASETS CREATION\n",
      "\n",
      "MODEL CREATION\n",
      "Config saved\n",
      "\n",
      "MODEL TRAINING\n",
      "Epoch 1: 100%|██████████| 48814/48814 [02:19<00:00, 350.64it/s, train_loss=0.159]\n",
      "Epoch 1: \n",
      "Losses: train = 0.35587261, test = 0.10482431\n",
      "Test: accuracy = 0.94818041\n",
      "Test: precision = 0.21184849\n",
      "Test: recall = 0.19658773\n",
      "Test: f1_score = 0.19621228\n",
      "new maximum score 0.94818041\n",
      "Saving state_dict... done.\n",
      "Epoch 2: 100%|██████████| 48814/48814 [02:20<00:00, 343.92it/s, train_loss=0.089] \n",
      "Epoch 2: \n",
      "Losses: train = 0.10479074, test = 0.06389583\n",
      "Test: accuracy = 0.96703464\n",
      "Test: precision = 0.35497858\n",
      "Test: recall = 0.32290088\n",
      "Test: f1_score = 0.32359311\n",
      "new maximum score 0.96703464\n",
      "Saving state_dict... done.\n",
      "Epoch 3: 100%|██████████| 48814/48814 [02:20<00:00, 343.93it/s, train_loss=0.0637]\n",
      "Epoch 3: \n",
      "Losses: train = 0.06984930, test = 0.04858816\n",
      "Test: accuracy = 0.97551651\n",
      "Test: precision = 0.43086637\n",
      "Test: recall = 0.39453920\n",
      "Test: f1_score = 0.39727636\n",
      "new maximum score 0.97551651\n",
      "Saving state_dict... done.\n",
      "Epoch 4: 100%|██████████| 48814/48814 [02:21<00:00, 345.78it/s, train_loss=0.0503]\n",
      "Epoch 4: \n",
      "Losses: train = 0.05307604, test = 0.04018004\n",
      "Test: accuracy = 0.98069003\n",
      "Test: precision = 0.50861955\n",
      "Test: recall = 0.46997654\n",
      "Test: f1_score = 0.47552437\n",
      "new maximum score 0.98069003\n",
      "Saving state_dict... done.\n",
      "Epoch 5: 100%|██████████| 48814/48814 [02:18<00:00, 319.07it/s, train_loss=0.0421]\n",
      "Epoch 5: \n",
      "Losses: train = 0.04331660, test = 0.03505797\n",
      "Test: accuracy = 0.98337384\n",
      "Test: precision = 0.56110563\n",
      "Test: recall = 0.52847345\n",
      "Test: f1_score = 0.53244071\n",
      "new maximum score 0.98337384\n",
      "Saving state_dict... done.\n",
      "Epoch 6: 100%|██████████| 48814/48814 [02:17<00:00, 354.21it/s, train_loss=0.0358]\n",
      "Epoch 6: \n",
      "Losses: train = 0.03653209, test = 0.03153419\n",
      "Test: accuracy = 0.98523057\n",
      "Test: precision = 0.59765989\n",
      "Test: recall = 0.56642237\n",
      "Test: f1_score = 0.57016863\n",
      "new maximum score 0.98523057\n",
      "Saving state_dict... done.\n",
      "Epoch 7: 100%|██████████| 48814/48814 [02:15<00:00, 354.00it/s, train_loss=0.0312]\n",
      "Epoch 7: \n",
      "Losses: train = 0.03188030, test = 0.02873818\n",
      "Test: accuracy = 0.98649652\n",
      "Test: precision = 0.62478677\n",
      "Test: recall = 0.59543442\n",
      "Test: f1_score = 0.59861441\n",
      "new maximum score 0.98649652\n",
      "Saving state_dict... done.\n",
      "Epoch 8: 100%|██████████| 48814/48814 [02:15<00:00, 364.51it/s, train_loss=0.0278]\n",
      "Epoch 8: \n",
      "Losses: train = 0.02817598, test = 0.02647782\n",
      "Test: accuracy = 0.98757680\n",
      "Test: precision = 0.64717941\n",
      "Test: recall = 0.61881832\n",
      "Test: f1_score = 0.62217784\n",
      "new maximum score 0.98757680\n",
      "Saving state_dict... done.\n",
      "Epoch 9: 100%|██████████| 48814/48814 [02:17<00:00, 327.65it/s, train_loss=0.0252]\n",
      "Epoch 9: \n",
      "Losses: train = 0.02533522, test = 0.02580022\n",
      "Test: accuracy = 0.98810850\n",
      "Test: precision = 0.66166257\n",
      "Test: recall = 0.63742366\n",
      "Test: f1_score = 0.64002012\n",
      "new maximum score 0.98810850\n",
      "Saving state_dict... done.\n",
      "Epoch 10: 100%|██████████| 48814/48814 [02:14<00:00, 356.60it/s, train_loss=0.0226]\n",
      "Epoch 10: \n",
      "Losses: train = 0.02319173, test = 0.02391389\n",
      "Test: accuracy = 0.98943353\n",
      "Test: precision = 0.69599397\n",
      "Test: recall = 0.67440453\n",
      "Test: f1_score = 0.67575302\n",
      "new maximum score 0.98943353\n",
      "Saving state_dict... done.\n",
      "Epoch 11: 100%|██████████| 48814/48814 [02:14<00:00, 342.47it/s, train_loss=0.0214]\n",
      "Epoch 11: \n",
      "Losses: train = 0.02105912, test = 0.02357610\n",
      "Test: accuracy = 0.98958544\n",
      "Test: precision = 0.71460335\n",
      "Test: recall = 0.69390216\n",
      "Test: f1_score = 0.69559963\n",
      "new maximum score 0.98958544\n",
      "Saving state_dict... done.\n",
      "Epoch 12: 100%|██████████| 48814/48814 [02:17<00:00, 355.53it/s, train_loss=0.0194]\n",
      "Epoch 12: \n",
      "Losses: train = 0.01968602, test = 0.02253029\n",
      "Test: accuracy = 0.98992303\n",
      "Test: precision = 0.72809877\n",
      "Test: recall = 0.70373501\n",
      "Test: f1_score = 0.70609468\n",
      "new maximum score 0.98992303\n",
      "Saving state_dict... done.\n",
      "Epoch 13: 100%|██████████| 48814/48814 [02:14<00:00, 329.67it/s, train_loss=0.0183]\n",
      "Epoch 13: \n",
      "Losses: train = 0.01806619, test = 0.02189819\n",
      "Test: accuracy = 0.98993147\n",
      "Test: precision = 0.72649399\n",
      "Test: recall = 0.69967578\n",
      "Test: f1_score = 0.70386981\n",
      "new maximum score 0.98993147\n",
      "Saving state_dict... done.\n",
      "Epoch 14: 100%|██████████| 48814/48814 [02:15<00:00, 378.14it/s, train_loss=0.0168]\n",
      "Epoch 14: \n",
      "Losses: train = 0.01669407, test = 0.02068767\n",
      "Test: accuracy = 0.99085983\n",
      "Test: precision = 0.75232186\n",
      "Test: recall = 0.72390794\n",
      "Test: f1_score = 0.72885805\n",
      "new maximum score 0.99085983\n",
      "Saving state_dict... done.\n",
      "Epoch 15: 100%|██████████| 48814/48814 [02:13<00:00, 343.58it/s, train_loss=0.0158]\n",
      "Epoch 15: \n",
      "Losses: train = 0.01591839, test = 0.02130769\n",
      "Test: accuracy = 0.99091891\n",
      "Test: precision = 0.75180946\n",
      "Test: recall = 0.72732713\n",
      "Test: f1_score = 0.73092613\n",
      "new maximum score 0.99091891\n",
      "Saving state_dict... done.\n",
      "Epoch 16: 100%|██████████| 48814/48814 [02:13<00:00, 365.02it/s, train_loss=0.0153]\n",
      "Epoch 16: \n",
      "Losses: train = 0.01497954, test = 0.02041975\n",
      "Test: accuracy = 0.99096111\n",
      "Test: precision = 0.76043905\n",
      "Test: recall = 0.73333155\n",
      "Test: f1_score = 0.73801221\n",
      "new maximum score 0.99096111\n",
      "Saving state_dict... done.\n",
      "Epoch 17: 100%|██████████| 48814/48814 [02:15<00:00, 360.89it/s, train_loss=0.0143]\n",
      "Epoch 17: \n",
      "Losses: train = 0.01393627, test = 0.02102339\n",
      "Test: accuracy = 0.99130714\n",
      "Test: precision = 0.76641424\n",
      "Test: recall = 0.74176647\n",
      "Test: f1_score = 0.74480003\n",
      "new maximum score 0.99130714\n",
      "Saving state_dict... done.\n",
      "Epoch 18: 100%|██████████| 48814/48814 [02:14<00:00, 360.36it/s, train_loss=0.0132]\n",
      "Epoch 18: \n",
      "Losses: train = 0.01323056, test = 0.01975825\n",
      "Test: accuracy = 0.99159409\n",
      "Test: precision = 0.77637014\n",
      "Test: recall = 0.75121369\n",
      "Test: f1_score = 0.75446316\n",
      "new maximum score 0.99159409\n",
      "Saving state_dict... done.\n",
      "Epoch 19: 100%|██████████| 48814/48814 [02:15<00:00, 359.23it/s, train_loss=0.0134]\n",
      "Epoch 19: \n",
      "Losses: train = 0.01248193, test = 0.01949763\n",
      "Test: accuracy = 0.99176288\n",
      "Test: precision = 0.79462017\n",
      "Test: recall = 0.76650668\n",
      "Test: f1_score = 0.77133627\n",
      "new maximum score 0.99176288\n",
      "Saving state_dict... done.\n",
      "Epoch 20: 100%|██████████| 48814/48814 [02:13<00:00, 358.38it/s, train_loss=0.0122]\n",
      "Epoch 20: \n",
      "Losses: train = 0.01193973, test = 0.01949771\n",
      "Test: accuracy = 0.99170380\n",
      "Test: precision = 0.79393110\n",
      "Test: recall = 0.76693648\n",
      "Test: f1_score = 0.77154762\n",
      "BAD EPOCHS: 1 (<< <)\n",
      "Epoch 21: 100%|██████████| 48814/48814 [02:14<00:00, 340.97it/s, train_loss=0.0116]\n",
      "Epoch 21: \n",
      "Losses: train = 0.01122484, test = 0.01938175\n",
      "Test: accuracy = 0.99215110\n",
      "Test: precision = 0.80446878\n",
      "Test: recall = 0.78151831\n",
      "Test: f1_score = 0.78569073\n",
      "new maximum score 0.99215110\n",
      "Saving state_dict... done.\n",
      "Epoch 22: 100%|██████████| 48814/48814 [02:15<00:00, 360.54it/s, train_loss=0.011] \n",
      "Epoch 22: \n",
      "Losses: train = 0.01080390, test = 0.01982014\n",
      "Test: accuracy = 0.99205827\n",
      "Test: precision = 0.80338790\n",
      "Test: recall = 0.77524517\n",
      "Test: f1_score = 0.78117253\n",
      "BAD EPOCHS: 1 (<< <)\n",
      "Epoch 23: 100%|██████████| 48814/48814 [02:14<00:00, 361.80it/s, train_loss=0.0107] \n",
      "Epoch 23: \n",
      "Losses: train = 0.01017378, test = 0.01952593\n",
      "Test: accuracy = 0.99246337\n",
      "Test: precision = 0.80784631\n",
      "Test: recall = 0.78791911\n",
      "Test: f1_score = 0.79022133\n",
      "new maximum score 0.99246337\n",
      "Saving state_dict... done.\n",
      "Epoch 24: 100%|██████████| 48814/48814 [02:15<00:00, 359.74it/s, train_loss=0.0104] \n",
      "Epoch 24: \n",
      "Losses: train = 0.00987657, test = 0.02001510\n",
      "Test: accuracy = 0.99237054\n",
      "Test: precision = 0.81256537\n",
      "Test: recall = 0.78580311\n",
      "Test: f1_score = 0.79069192\n",
      "BAD EPOCHS: 1 (<< <)\n",
      "Epoch 25: 100%|██████████| 48814/48814 [02:13<00:00, 367.27it/s, train_loss=0.00983]\n",
      "Epoch 25: \n",
      "Losses: train = 0.00928567, test = 0.01908159\n",
      "Test: accuracy = 0.99246337\n",
      "Test: precision = 0.80459060\n",
      "Test: recall = 0.78172785\n",
      "Test: f1_score = 0.78504452\n",
      "BAD EPOCHS: 1 (== >)\n",
      "Epoch 26: 100%|██████████| 48814/48814 [02:13<00:00, 338.86it/s, train_loss=0.00939]\n",
      "Epoch 26: \n",
      "Losses: train = 0.00904263, test = 0.01972634\n",
      "Test: accuracy = 0.99256465\n",
      "Test: precision = 0.81567961\n",
      "Test: recall = 0.79089561\n",
      "Test: f1_score = 0.79585473\n",
      "new maximum score 0.99256465\n",
      "Saving state_dict... done.\n",
      "Epoch 27: 100%|██████████| 48814/48814 [02:15<00:00, 338.87it/s, train_loss=0.00915]\n",
      "Epoch 27: \n",
      "Losses: train = 0.00867637, test = 0.01909371\n",
      "Test: accuracy = 0.99274188\n",
      "Test: precision = 0.81168810\n",
      "Test: recall = 0.78969952\n",
      "Test: f1_score = 0.79277256\n",
      "new maximum score 0.99274188\n",
      "Saving state_dict... done.\n",
      "Epoch 28: 100%|██████████| 48814/48814 [02:14<00:00, 362.10it/s, train_loss=0.00858]\n",
      "Epoch 28: \n",
      "Losses: train = 0.00824208, test = 0.02010205\n",
      "Test: accuracy = 0.99254777\n",
      "Test: precision = 0.82018352\n",
      "Test: recall = 0.79277271\n",
      "Test: f1_score = 0.79823928\n",
      "BAD EPOCHS: 1 (<< <)\n",
      "Epoch 29: 100%|██████████| 48814/48814 [02:16<00:00, 358.89it/s, train_loss=0.00839]\n",
      "Epoch 29: \n",
      "Losses: train = 0.00784446, test = 0.01881017\n",
      "Test: accuracy = 0.99280096\n",
      "Test: precision = 0.82120500\n",
      "Test: recall = 0.80182173\n",
      "Test: f1_score = 0.80412707\n",
      "new maximum score 0.99280096\n",
      "Saving state_dict... done.\n",
      "Epoch 30: 100%|██████████| 48814/48814 [02:13<00:00, 345.45it/s, train_loss=0.00768]\n",
      "Epoch 30: \n",
      "Losses: train = 0.00750610, test = 0.01960367\n",
      "Test: accuracy = 0.99287692\n",
      "Test: precision = 0.82092169\n",
      "Test: recall = 0.79908260\n",
      "Test: f1_score = 0.80231761\n",
      "new maximum score 0.99287692\n",
      "Saving state_dict... done.\n",
      "Epoch 31: 100%|██████████| 48814/48814 [02:13<00:00, 352.57it/s, train_loss=0.00732]\n",
      "Epoch 31: \n",
      "Losses: train = 0.00706097, test = 0.01905652\n",
      "Test: accuracy = 0.99318918\n",
      "Test: precision = 0.82386222\n",
      "Test: recall = 0.80492807\n",
      "Test: f1_score = 0.80731952\n",
      "new maximum score 0.99318918\n",
      "Saving state_dict... done.\n",
      "Epoch 32: 100%|██████████| 48814/48814 [02:15<00:00, 360.58it/s, train_loss=0.00736]\n",
      "Epoch 32: \n",
      "Losses: train = 0.00697617, test = 0.01964899\n",
      "Test: accuracy = 0.99316386\n",
      "Test: precision = 0.82431921\n",
      "Test: recall = 0.80290897\n",
      "Test: f1_score = 0.80526102\n",
      "BAD EPOCHS: 1 (<< <)\n",
      "Epoch 33: 100%|██████████| 48814/48814 [02:14<00:00, 361.87it/s, train_loss=0.00708]\n",
      "Epoch 33: \n",
      "Losses: train = 0.00679441, test = 0.01863689\n",
      "Test: accuracy = 0.99336642\n",
      "Test: precision = 0.82171116\n",
      "Test: recall = 0.80278815\n",
      "Test: f1_score = 0.80474014\n",
      "new maximum score 0.99336642\n",
      "Saving state_dict... done.\n",
      "Epoch 34: 100%|██████████| 48814/48814 [02:16<00:00, 375.33it/s, train_loss=0.00683]\n",
      "Epoch 34: \n",
      "Losses: train = 0.00642842, test = 0.01950145\n",
      "Test: accuracy = 0.99298663\n",
      "Test: precision = 0.81707528\n",
      "Test: recall = 0.79788797\n",
      "Test: f1_score = 0.79992485\n",
      "BAD EPOCHS: 1 (<< <)\n",
      "Epoch 35: 100%|██████████| 48814/48814 [02:13<00:00, 369.42it/s, train_loss=0.00642]\n",
      "Epoch 35: \n",
      "Losses: train = 0.00628742, test = 0.01872047\n",
      "Test: accuracy = 0.99324826\n",
      "Test: precision = 0.82312983\n",
      "Test: recall = 0.80000821\n",
      "Test: f1_score = 0.80373070\n",
      "BAD EPOCHS: 1 (<< >)\n",
      "Epoch 36: 100%|██████████| 48814/48814 [02:13<00:00, 358.11it/s, train_loss=0.00635]\n",
      "Epoch 36: \n",
      "Losses: train = 0.00598590, test = 0.01940479\n",
      "Test: accuracy = 0.99329890\n",
      "Test: precision = 0.82145598\n",
      "Test: recall = 0.80594143\n",
      "Test: f1_score = 0.80631549\n",
      "BAD EPOCHS: 1 (<< >)\n",
      "Epoch 37: 100%|██████████| 48814/48814 [02:15<00:00, 360.70it/s, train_loss=0.00604]\n",
      "Epoch 37: \n",
      "Losses: train = 0.00583780, test = 0.01927830\n",
      "Test: accuracy = 0.99316386\n",
      "Test: precision = 0.83302387\n",
      "Test: recall = 0.81612816\n",
      "Test: f1_score = 0.81647517\n",
      "BAD EPOCHS: 2 (<< <)\n",
      "Epoch 38: 100%|██████████| 48814/48814 [02:15<00:00, 360.35it/s, train_loss=0.00605]\n",
      "Epoch 38: \n",
      "Losses: train = 0.00568328, test = 0.01986996\n",
      "Test: accuracy = 0.99337486\n",
      "Test: precision = 0.83360713\n",
      "Test: recall = 0.81146556\n",
      "Test: f1_score = 0.81466031\n",
      "new maximum score 0.99337486\n",
      "Saving state_dict... done.\n",
      "Epoch 39: 100%|██████████| 48814/48814 [02:15<00:00, 348.34it/s, train_loss=0.00545]\n",
      "Epoch 39: \n",
      "Losses: train = 0.00544613, test = 0.01991380\n",
      "Test: accuracy = 0.99338330\n",
      "Test: precision = 0.82549264\n",
      "Test: recall = 0.80651880\n",
      "Test: f1_score = 0.80871105\n",
      "new maximum score 0.99338330\n",
      "Saving state_dict... done.\n",
      "Epoch 40: 100%|██████████| 48814/48814 [02:13<00:00, 365.21it/s, train_loss=0.00574]\n",
      "Epoch 40: \n",
      "Losses: train = 0.00543382, test = 0.01958490\n",
      "Test: accuracy = 0.99350989\n",
      "Test: precision = 0.83628008\n",
      "Test: recall = 0.81455822\n",
      "Test: f1_score = 0.81651575\n",
      "new maximum score 0.99350989\n",
      "Saving state_dict... done.\n",
      "Epoch 41: 100%|██████████| 48814/48814 [02:13<00:00, 332.75it/s, train_loss=0.00553]\n",
      "Epoch 41: \n",
      "Losses: train = 0.00522639, test = 0.02003173\n",
      "Test: accuracy = 0.99329890\n",
      "Test: precision = 0.83300230\n",
      "Test: recall = 0.81163706\n",
      "Test: f1_score = 0.81534262\n",
      "BAD EPOCHS: 1 (<< <)\n",
      "Epoch 42: 100%|██████████| 48814/48814 [02:15<00:00, 354.34it/s, train_loss=0.00554]\n",
      "Epoch 42: \n",
      "Losses: train = 0.00510008, test = 0.01961753\n",
      "Test: accuracy = 0.99347613\n",
      "Test: precision = 0.82680642\n",
      "Test: recall = 0.80535516\n",
      "Test: f1_score = 0.80913644\n",
      "BAD EPOCHS: 1 (<< >)\n",
      "Epoch 43: 100%|██████████| 48814/48814 [02:15<00:00, 361.48it/s, train_loss=0.00493]\n",
      "Epoch 43: \n",
      "Losses: train = 0.00478717, test = 0.01971768\n",
      "Test: accuracy = 0.99332422\n",
      "Test: precision = 0.82946609\n",
      "Test: recall = 0.80559706\n",
      "Test: f1_score = 0.80984870\n",
      "BAD EPOCHS: 2 (<< <)\n",
      "Epoch 44: 100%|██████████| 48814/48814 [02:15<00:00, 359.88it/s, train_loss=0.005]  \n",
      "Epoch 44: \n",
      "Losses: train = 0.00473538, test = 0.02053770\n",
      "Test: accuracy = 0.99367025\n",
      "Test: precision = 0.83941620\n",
      "Test: recall = 0.82042290\n",
      "Test: f1_score = 0.82301981\n",
      "new maximum score 0.99367025\n",
      "Saving state_dict... done.\n",
      "Epoch 45: 100%|██████████| 48814/48814 [02:13<00:00, 365.62it/s, train_loss=0.00469]\n",
      "Epoch 45: \n",
      "Losses: train = 0.00453038, test = 0.02029517\n",
      "Test: accuracy = 0.99346769\n",
      "Test: precision = 0.82806405\n",
      "Test: recall = 0.80665050\n",
      "Test: f1_score = 0.81022624\n",
      "BAD EPOCHS: 1 (<< <)\n",
      "Epoch 46: 100%|██████████| 48814/48814 [02:13<00:00, 314.57it/s, train_loss=0.00467]\n",
      "Epoch 46: \n",
      "Losses: train = 0.00443373, test = 0.02064377\n",
      "Test: accuracy = 0.99317230\n",
      "Test: precision = 0.83000869\n",
      "Test: recall = 0.80751073\n",
      "Test: f1_score = 0.81080756\n",
      "BAD EPOCHS: 2 (<< <)\n",
      "Epoch 47: 100%|██████████| 48814/48814 [02:15<00:00, 360.88it/s, train_loss=0.00448]\n",
      "Epoch 47: \n",
      "Losses: train = 0.00424224, test = 0.02055980\n",
      "Test: accuracy = 0.99352677\n",
      "Test: precision = 0.83476589\n",
      "Test: recall = 0.81419147\n",
      "Test: f1_score = 0.81659869\n",
      "BAD EPOCHS: 2 (<< >)\n",
      "Epoch 48: 100%|██████████| 48814/48814 [02:14<00:00, 325.65it/s, train_loss=0.00443]\n",
      "Epoch 48: \n",
      "Losses: train = 0.00418564, test = 0.02050095\n",
      "Test: accuracy = 0.99363649\n",
      "Test: precision = 0.83665029\n",
      "Test: recall = 0.81696681\n",
      "Test: f1_score = 0.81919227\n",
      "BAD EPOCHS: 2 (<< >)\n",
      "Epoch 49: 100%|██████████| 48814/48814 [02:15<00:00, 322.17it/s, train_loss=0.00431]\n",
      "Epoch 49: \n",
      "Losses: train = 0.00413641, test = 0.02076483\n",
      "Test: accuracy = 0.99355209\n",
      "Test: precision = 0.84152452\n",
      "Test: recall = 0.82354848\n",
      "Test: f1_score = 0.82548145\n",
      "BAD EPOCHS: 3 (<< <)\n",
      "Epoch 50: 100%|██████████| 48814/48814 [02:14<00:00, 337.22it/s, train_loss=0.00403]\n",
      "Epoch 50: \n",
      "Losses: train = 0.00391426, test = 0.02015905\n",
      "Test: accuracy = 0.99361961\n",
      "Test: precision = 0.82200171\n",
      "Test: recall = 0.80516821\n",
      "Test: f1_score = 0.80679794\n",
      "BAD EPOCHS: 3 (<< >)\n",
      "Epoch 51: 100%|██████████| 48814/48814 [02:14<00:00, 340.06it/s, train_loss=0.00431]\n",
      "Epoch 51: \n",
      "Losses: train = 0.00391794, test = 0.02068866\n",
      "Test: accuracy = 0.99343393\n",
      "Test: precision = 0.83324498\n",
      "Test: recall = 0.81196741\n",
      "Test: f1_score = 0.81476711\n",
      "BAD EPOCHS: 4 (<< <)\n",
      "Epoch 52: 100%|██████████| 48814/48814 [02:15<00:00, 359.99it/s, train_loss=0.00402]\n",
      "Epoch 52: \n",
      "Losses: train = 0.00369223, test = 0.02060718\n",
      "Test: accuracy = 0.99367025\n",
      "Test: precision = 0.83559319\n",
      "Test: recall = 0.81199702\n",
      "Test: f1_score = 0.81535301\n",
      "BAD EPOCHS: 4 (== >)\n",
      "Epoch 53: 100%|██████████| 48814/48814 [02:15<00:00, 361.58it/s, train_loss=0.00407]\n",
      "Epoch 53: \n",
      "Losses: train = 0.00376557, test = 0.02157984\n",
      "Test: accuracy = 0.99328202\n",
      "Test: precision = 0.83599732\n",
      "Test: recall = 0.81647349\n",
      "Test: f1_score = 0.81816514\n",
      "BAD EPOCHS: 5 (<< <)\n",
      "Maximum bad epochs exceeded. Process has been stopped. Best score 0.9936702450881102 (on epoch 44)\n",
      "Elapsed time: 2h 8m 3s\n",
      "\n",
      "MODEL TUNING\n",
      "Loading state_dict... done.\n",
      "Epoch 1: 100%|██████████| 48814/48814 [02:12<00:00, 388.90it/s, train_loss=0.00402]\n",
      "Epoch 1: \n",
      "Losses: train = 0.00409273, test = 0.01954987\n",
      "Test: accuracy = 0.99369556\n",
      "Test: precision = 0.83994716\n",
      "Test: recall = 0.81745013\n",
      "Test: f1_score = 0.82159193\n",
      "new maximum score 0.99369556\n",
      "Saving state_dict... done.\n",
      "Epoch 2: 100%|██████████| 48814/48814 [02:10<00:00, 373.64it/s, train_loss=0.00391]\n",
      "Epoch 2: \n",
      "Losses: train = 0.00381768, test = 0.01970464\n",
      "Test: accuracy = 0.99372932\n",
      "Test: precision = 0.84375152\n",
      "Test: recall = 0.82139139\n",
      "Test: f1_score = 0.82541304\n",
      "new maximum score 0.99372932\n",
      "Saving state_dict... done.\n",
      "Epoch 3: 100%|██████████| 48814/48814 [02:10<00:00, 351.58it/s, train_loss=0.0037] \n",
      "Epoch 3: \n",
      "Losses: train = 0.00375669, test = 0.01965179\n",
      "Test: accuracy = 0.99385592\n",
      "Test: precision = 0.84290226\n",
      "Test: recall = 0.82236665\n",
      "Test: f1_score = 0.82614938\n",
      "new maximum score 0.99385592\n",
      "Saving state_dict... done.\n",
      "Epoch 4: 100%|██████████| 48814/48814 [02:12<00:00, 353.18it/s, train_loss=0.0037] \n",
      "Epoch 4: \n",
      "Losses: train = 0.00364745, test = 0.01940638\n",
      "Test: accuracy = 0.99383060\n",
      "Test: precision = 0.84208219\n",
      "Test: recall = 0.81971053\n",
      "Test: f1_score = 0.82388985\n",
      "BAD EPOCHS: 1 (<< <)\n",
      "Epoch 5: 100%|██████████| 48814/48814 [02:12<00:00, 359.94it/s, train_loss=0.00359]\n",
      "Epoch 5: \n",
      "Losses: train = 0.00351752, test = 0.01939870\n",
      "Test: accuracy = 0.99388124\n",
      "Test: precision = 0.84193757\n",
      "Test: recall = 0.82087837\n",
      "Test: f1_score = 0.82477020\n",
      "new maximum score 0.99388124\n",
      "Saving state_dict... done.\n",
      "Epoch 6: 100%|██████████| 48814/48814 [02:12<00:00, 367.50it/s, train_loss=0.00358]\n",
      "Epoch 6: \n",
      "Losses: train = 0.00342896, test = 0.01940964\n",
      "Test: accuracy = 0.99384748\n",
      "Test: precision = 0.84335478\n",
      "Test: recall = 0.82115793\n",
      "Test: f1_score = 0.82537204\n",
      "BAD EPOCHS: 1 (<< <)\n",
      "Epoch 7: 100%|██████████| 48814/48814 [02:10<00:00, 349.80it/s, train_loss=0.00325]\n",
      "Epoch 7: \n",
      "Losses: train = 0.00346282, test = 0.01961865\n",
      "Test: accuracy = 0.99384748\n",
      "Test: precision = 0.84295330\n",
      "Test: recall = 0.82073338\n",
      "Test: f1_score = 0.82487422\n",
      "BAD EPOCHS: 2 (<< =)\n",
      "Epoch 8: 100%|██████████| 48814/48814 [02:11<00:00, 379.36it/s, train_loss=0.00343]\n",
      "Epoch 8: \n",
      "Losses: train = 0.00344875, test = 0.01903130\n",
      "Test: accuracy = 0.99388968\n",
      "Test: precision = 0.84180720\n",
      "Test: recall = 0.82041115\n",
      "Test: f1_score = 0.82451751\n",
      "new maximum score 0.99388968\n",
      "Saving state_dict... done.\n",
      "Epoch 9: 100%|██████████| 48814/48814 [02:12<00:00, 369.05it/s, train_loss=0.00351]\n",
      "Epoch 9: \n",
      "Losses: train = 0.00340251, test = 0.01980376\n",
      "Test: accuracy = 0.99386436\n",
      "Test: precision = 0.84350275\n",
      "Test: recall = 0.82143938\n",
      "Test: f1_score = 0.82551135\n",
      "BAD EPOCHS: 1 (<< <)\n",
      "Epoch 10: 100%|██████████| 48814/48814 [02:11<00:00, 351.62it/s, train_loss=0.00356]\n",
      "Epoch 10: \n",
      "Losses: train = 0.00341078, test = 0.01982201\n",
      "Test: accuracy = 0.99389812\n",
      "Test: precision = 0.84280428\n",
      "Test: recall = 0.82160261\n",
      "Test: f1_score = 0.82515524\n",
      "new maximum score 0.99389812\n",
      "Saving state_dict... done.\n",
      "Epoch 11: 100%|██████████| 48814/48814 [02:12<00:00, 370.80it/s, train_loss=0.00327]\n",
      "Epoch 11: \n",
      "Losses: train = 0.00326232, test = 0.01890867\n",
      "Test: accuracy = 0.99388124\n",
      "Test: precision = 0.84247227\n",
      "Test: recall = 0.82149014\n",
      "Test: f1_score = 0.82525516\n",
      "BAD EPOCHS: 1 (<< <)\n",
      "Epoch 12: 100%|██████████| 48814/48814 [02:10<00:00, 349.08it/s, train_loss=0.0035] \n",
      "Epoch 12: \n",
      "Losses: train = 0.00342132, test = 0.02009843\n",
      "Test: accuracy = 0.99387280\n",
      "Test: precision = 0.84072712\n",
      "Test: recall = 0.82090554\n",
      "Test: f1_score = 0.82368584\n",
      "BAD EPOCHS: 2 (<< <)\n",
      "Epoch 13: 100%|██████████| 48814/48814 [02:11<00:00, 372.11it/s, train_loss=0.00318]\n",
      "Epoch 13: \n",
      "Losses: train = 0.00323709, test = 0.01940187\n",
      "Test: accuracy = 0.99391500\n",
      "Test: precision = 0.84035565\n",
      "Test: recall = 0.81993576\n",
      "Test: f1_score = 0.82336252\n",
      "new maximum score 0.99391500\n",
      "Saving state_dict... done.\n",
      "Epoch 14: 100%|██████████| 48814/48814 [02:12<00:00, 374.85it/s, train_loss=0.00332]\n",
      "Epoch 14: \n",
      "Losses: train = 0.00330655, test = 0.01949639\n",
      "Test: accuracy = 0.99394875\n",
      "Test: precision = 0.84271833\n",
      "Test: recall = 0.82116936\n",
      "Test: f1_score = 0.82546402\n",
      "new maximum score 0.99394875\n",
      "Saving state_dict... done.\n",
      "Epoch 15: 100%|██████████| 48814/48814 [02:12<00:00, 357.67it/s, train_loss=0.00305]\n",
      "Epoch 15: \n",
      "Losses: train = 0.00316131, test = 0.01939867\n",
      "Test: accuracy = 0.99388968\n",
      "Test: precision = 0.84046400\n",
      "Test: recall = 0.81991746\n",
      "Test: f1_score = 0.82364874\n",
      "BAD EPOCHS: 1 (<< <)\n",
      "Epoch 16: 100%|██████████| 48814/48814 [02:12<00:00, 340.79it/s, train_loss=0.0033] \n",
      "Epoch 16: \n",
      "Losses: train = 0.00328118, test = 0.02002705\n",
      "Test: accuracy = 0.99393187\n",
      "Test: precision = 0.84304728\n",
      "Test: recall = 0.82333247\n",
      "Test: f1_score = 0.82635948\n",
      "BAD EPOCHS: 1 (<< >)\n",
      "Epoch 17: 100%|██████████| 48814/48814 [02:10<00:00, 376.17it/s, train_loss=0.00319]\n",
      "Epoch 17: \n",
      "Losses: train = 0.00323858, test = 0.01977455\n",
      "Test: accuracy = 0.99392344\n",
      "Test: precision = 0.84263086\n",
      "Test: recall = 0.82244616\n",
      "Test: f1_score = 0.82555357\n",
      "BAD EPOCHS: 2 (<< <)\n",
      "Epoch 18: 100%|██████████| 48814/48814 [02:11<00:00, 366.30it/s, train_loss=0.00309]\n",
      "Epoch 18: \n",
      "Losses: train = 0.00319217, test = 0.01943916\n",
      "Test: accuracy = 0.99394031\n",
      "Test: precision = 0.84162092\n",
      "Test: recall = 0.82159778\n",
      "Test: f1_score = 0.82490139\n",
      "BAD EPOCHS: 2 (<< >)\n",
      "Epoch 19: 100%|██████████| 48814/48814 [02:12<00:00, 364.13it/s, train_loss=0.00316]\n",
      "Epoch 19: \n",
      "Losses: train = 0.00318720, test = 0.01989146\n",
      "Test: accuracy = 0.99394875\n",
      "Test: precision = 0.84558673\n",
      "Test: recall = 0.82545608\n",
      "Test: f1_score = 0.82849630\n",
      "BAD EPOCHS: 2 (== >)\n",
      "Epoch 20: 100%|██████████| 48814/48814 [02:12<00:00, 385.39it/s, train_loss=0.00323]\n",
      "Epoch 20: \n",
      "Losses: train = 0.00314408, test = 0.01914654\n",
      "Test: accuracy = 0.99386436\n",
      "Test: precision = 0.84279124\n",
      "Test: recall = 0.82162361\n",
      "Test: f1_score = 0.82523247\n",
      "BAD EPOCHS: 3 (<< <)\n",
      "Epoch 21: 100%|██████████| 48814/48814 [02:12<00:00, 368.31it/s, train_loss=0.00308]\n",
      "Epoch 21: \n",
      "Losses: train = 0.00313909, test = 0.01946327\n",
      "Test: accuracy = 0.99388124\n",
      "Test: precision = 0.84368243\n",
      "Test: recall = 0.82214032\n",
      "Test: f1_score = 0.82584748\n",
      "BAD EPOCHS: 3 (<< >)\n",
      "Epoch 22: 100%|██████████| 48814/48814 [02:10<00:00, 374.66it/s, train_loss=0.00313]\n",
      "Epoch 22: \n",
      "Losses: train = 0.00307200, test = 0.01964352\n",
      "Test: accuracy = 0.99385592\n",
      "Test: precision = 0.84399466\n",
      "Test: recall = 0.82389414\n",
      "Test: f1_score = 0.82706578\n",
      "BAD EPOCHS: 4 (<< <)\n",
      "Epoch 23: 100%|██████████| 48814/48814 [02:10<00:00, 372.94it/s, train_loss=0.00312]\n",
      "Epoch 23: \n",
      "Losses: train = 0.00308902, test = 0.01964788\n",
      "Test: accuracy = 0.99387280\n",
      "Test: precision = 0.84158849\n",
      "Test: recall = 0.82196532\n",
      "Test: f1_score = 0.82485114\n",
      "BAD EPOCHS: 4 (<< >)\n",
      "Epoch 24: 100%|██████████| 48814/48814 [02:12<00:00, 356.70it/s, train_loss=0.00311]\n",
      "Epoch 24: \n",
      "Losses: train = 0.00305737, test = 0.01960889\n",
      "Test: accuracy = 0.99388124\n",
      "Test: precision = 0.84086560\n",
      "Test: recall = 0.82071868\n",
      "Test: f1_score = 0.82396887\n",
      "BAD EPOCHS: 4 (<< >)\n",
      "Epoch 25: 100%|██████████| 48814/48814 [02:11<00:00, 363.74it/s, train_loss=0.003]  \n",
      "Epoch 25: \n",
      "Losses: train = 0.00309285, test = 0.01948109\n",
      "Test: accuracy = 0.99391500\n",
      "Test: precision = 0.84410224\n",
      "Test: recall = 0.82314613\n",
      "Test: f1_score = 0.82650846\n",
      "BAD EPOCHS: 4 (<< >)\n",
      "Epoch 26: 100%|██████████| 48814/48814 [02:13<00:00, 344.36it/s, train_loss=0.003]  \n",
      "Epoch 26: \n",
      "Losses: train = 0.00298277, test = 0.01983243\n",
      "Test: accuracy = 0.99388968\n",
      "Test: precision = 0.84062979\n",
      "Test: recall = 0.82120354\n",
      "Test: f1_score = 0.82395628\n",
      "BAD EPOCHS: 5 (<< <)\n",
      "Maximum bad epochs exceeded. Process has been stopped. Best score 0.9939487543042334 (on epoch 14)\n",
      "Elapsed time: 1h 1m 15s\n",
      "\n",
      "=== LEMMA TAGGER TRAINING HAS FINISHED === Total time: 3h 11m 4s ===\n",
      "\n",
      "Use the `.load('lemma-ft_model')` method to start working with the LEMMA tagger.\n"
     ]
    },
    {
     "name": "stderr",
     "output_type": "stream",
     "text": [
      "[=======] 6584                                                     \n",
      "Corpus has been loaded: 6584 sentences, 118692 tokens\n"
     ]
    }
   ],
   "source": [
    "tagger = LemmaTagger(embs=globals()['tagger'].embs\n",
    "                              if 'tagger' in globals() else\n",
    "                          None)\n",
    "tagger.load_train_corpus(corpus.train)\n",
    "tagger.load_test_corpus(corpus.dev)\n",
    "\n",
    "_ = tagger.train(MODEL_FN, device='cuda:11', word_emb_type='ft',\n",
    "                 word_emb_path=FT_MODEL_FN,\n",
    "                 rnn_emb_dim=300, cnn_emb_dim=None, cnn_kernels=range(1, 7),\n",
    "                 upos_emb_dim=200, lstm_layers=1, seed=SEED)"
   ]
  },
  {
   "cell_type": "code",
   "execution_count": 23,
   "metadata": {},
   "outputs": [
    {
     "name": "stdout",
     "output_type": "stream",
     "text": [
      "Loading dataset... done.\n",
      "Creating model... done.\n",
      "Loading state_dict... done.\n",
      "Fit corpus dict... done.\n"
     ]
    }
   ],
   "source": [
    "res_dev = 'corpora/_dev_' + MODEL_FN.replace('_model', '.conllu')\n",
    "res_test = 'corpora/_test_' + MODEL_FN.replace('_model', '.conllu')\n",
    "tagger = LemmaTagger(embs=globals()['tagger'].embs\n",
    "                              if 'tagger' in globals() else\n",
    "                          None)\n",
    "tagger.load(MODEL_FN)\n",
    "junky.clear_tqdm()"
   ]
  },
  {
   "cell_type": "code",
   "execution_count": 24,
   "metadata": {
    "scrolled": true
   },
   "outputs": [
    {
     "name": "stderr",
     "output_type": "stream",
     "text": [
      "Load corpus\n",
      "[=======] 6584                                                     \n",
      "Corpus has been loaded: 6584 sentences, 118692 tokens\n"
     ]
    }
   ],
   "source": [
    "_ = tagger.predict(corpus.dev, clone_ds=True, save_to=res_dev)"
   ]
  },
  {
   "cell_type": "code",
   "execution_count": 25,
   "metadata": {},
   "outputs": [
    {
     "name": "stdout",
     "output_type": "stream",
     "text": [
      "Evaluating LEMMA\n"
     ]
    },
    {
     "name": "stderr",
     "output_type": "stream",
     "text": [
      "Load corpus\n",
      "[=======] 6584                                                     \n",
      "Corpus has been loaded: 6584 sentences, 118692 tokens\n"
     ]
    },
    {
     "name": "stdout",
     "output_type": "stream",
     "text": [
      "Processing corpus\n",
      "100%|██████████| 6584/6584 [00:12<00:00, 548.42it/s]\n",
      "LEMMA total: 118488\n",
      "    correct: 117809\n",
      "      wrong: 679\n",
      "   Accuracy: 0.9942694618864357\n",
      "[By sentence accuracy: 0.9097812879708383]\n"
     ]
    }
   ],
   "source": [
    "_ = tagger.evaluate(corpus.dev)"
   ]
  },
  {
   "cell_type": "code",
   "execution_count": 26,
   "metadata": {
    "scrolled": false
   },
   "outputs": [
    {
     "name": "stdout",
     "output_type": "stream",
     "text": [
      "Evaluating LEMMA\n",
      "Load corpus\n",
      "[> 500                                                            "
     ]
    },
    {
     "name": "stderr",
     "output_type": "stream",
     "text": [
      "Load corpus\n",
      "[> 800                                                            "
     ]
    },
    {
     "name": "stdout",
     "output_type": "stream",
     "text": [
      "[=> 1900                                                           "
     ]
    },
    {
     "name": "stderr",
     "output_type": "stream",
     "text": [
      "[=> 1900                                                           "
     ]
    },
    {
     "name": "stdout",
     "output_type": "stream",
     "text": [
      "[===> 3300                                                         "
     ]
    },
    {
     "name": "stderr",
     "output_type": "stream",
     "text": [
      "[===> 4000                                                         "
     ]
    },
    {
     "name": "stdout",
     "output_type": "stream",
     "text": [
      "[====> 5000                                                        "
     ]
    },
    {
     "name": "stderr",
     "output_type": "stream",
     "text": [
      "[=====> 5500                                                       "
     ]
    },
    {
     "name": "stdout",
     "output_type": "stream",
     "text": [
      "[=======] 6584                                                     \n",
      "Corpus has been loaded: 6584 sentences, 118692 tokens\n",
      "LEMMA total: 118488\n",
      "    correct: 117809\n",
      "      wrong: 679\n",
      "   Accuracy: 0.9942694618864357\n",
      "[By sentence accuracy: 0.9097812879708383]\n"
     ]
    },
    {
     "name": "stderr",
     "output_type": "stream",
     "text": [
      "[=======] 6584                                                     \n",
      "Corpus has been loaded: 6584 sentences, 118692 tokens\n"
     ]
    }
   ],
   "source": [
    "_ = tagger.evaluate(corpus.dev, res_dev)"
   ]
  },
  {
   "cell_type": "code",
   "execution_count": 27,
   "metadata": {
    "scrolled": true
   },
   "outputs": [
    {
     "name": "stderr",
     "output_type": "stream",
     "text": [
      "Load corpus\n",
      "[======> 6300                                                      "
     ]
    },
    {
     "name": "stdout",
     "output_type": "stream",
     "text": [
      "Processing corpus\n",
      "100%|██████████| 6491/6491 [00:12<00:00, 540.34it/s]\n"
     ]
    },
    {
     "name": "stderr",
     "output_type": "stream",
     "text": [
      "[=======] 6491                                                     \n",
      "Corpus has been loaded: 6491 sentences, 117523 tokens\n"
     ]
    }
   ],
   "source": [
    "_ = tagger.predict(corpus.test, save_to=res_test)"
   ]
  },
  {
   "cell_type": "code",
   "execution_count": 28,
   "metadata": {},
   "outputs": [
    {
     "name": "stdout",
     "output_type": "stream",
     "text": [
      "Evaluating LEMMA\n"
     ]
    },
    {
     "name": "stderr",
     "output_type": "stream",
     "text": [
      "Load corpus\n",
      "[=======] 6491                                                     \n",
      "Corpus has been loaded: 6491 sentences, 117523 tokens\n"
     ]
    },
    {
     "name": "stdout",
     "output_type": "stream",
     "text": [
      "LEMMA total: 117329\n",
      "    correct: 116642\n",
      "      wrong: 687\n",
      "   Accuracy: 0.9941446701156577\n",
      "[By sentence accuracy: 0.9063318440918194]\n"
     ]
    }
   ],
   "source": [
    "_ = tagger.evaluate(corpus.test, clone_ds=True)"
   ]
  },
  {
   "cell_type": "code",
   "execution_count": 29,
   "metadata": {
    "scrolled": false
   },
   "outputs": [
    {
     "name": "stdout",
     "output_type": "stream",
     "text": [
      "Evaluating LEMMA\n",
      "Load corpus\n",
      "[> 700                                                            "
     ]
    },
    {
     "name": "stderr",
     "output_type": "stream",
     "text": [
      "Load corpus\n",
      "[> 700                                                            "
     ]
    },
    {
     "name": "stdout",
     "output_type": "stream",
     "text": [
      "[==> 2300                                                          "
     ]
    },
    {
     "name": "stderr",
     "output_type": "stream",
     "text": [
      "[==> 2300                                                          "
     ]
    },
    {
     "name": "stdout",
     "output_type": "stream",
     "text": [
      "[===> 3100                                                         "
     ]
    },
    {
     "name": "stderr",
     "output_type": "stream",
     "text": [
      "[===> 3600                                                         "
     ]
    },
    {
     "name": "stdout",
     "output_type": "stream",
     "text": [
      "[====> 4100                                                        "
     ]
    },
    {
     "name": "stderr",
     "output_type": "stream",
     "text": [
      "[====> 4500                                                        "
     ]
    },
    {
     "name": "stdout",
     "output_type": "stream",
     "text": [
      "[=====> 5300                                                       "
     ]
    },
    {
     "name": "stderr",
     "output_type": "stream",
     "text": [
      "[=====> 5500                                                       "
     ]
    },
    {
     "name": "stdout",
     "output_type": "stream",
     "text": [
      "[======> 6300                                                      "
     ]
    },
    {
     "name": "stderr",
     "output_type": "stream",
     "text": [
      "[======> 6300                                                      "
     ]
    },
    {
     "name": "stdout",
     "output_type": "stream",
     "text": [
      "[=======] 6491                                                     \n",
      "Corpus has been loaded: 6491 sentences, 117523 tokens\n",
      "LEMMA total: 117329\n",
      "    correct: 116642\n",
      "      wrong: 687\n",
      "   Accuracy: 0.9941446701156577\n",
      "[By sentence accuracy: 0.9063318440918194]\n"
     ]
    },
    {
     "name": "stderr",
     "output_type": "stream",
     "text": [
      "[=======] 6491                                                     \n",
      "Corpus has been loaded: 6491 sentences, 117523 tokens\n"
     ]
    }
   ],
   "source": [
    "_ = tagger.evaluate(corpus.test, res_test)"
   ]
  },
  {
   "cell_type": "markdown",
   "metadata": {},
   "source": [
    "## CoNLL18 Validation"
   ]
  },
  {
   "cell_type": "code",
   "execution_count": 30,
   "metadata": {},
   "outputs": [],
   "source": [
    "from corpuscula.corpus_utils import download_ud, get_ud_test_path\n",
    "import junky\n",
    "from mordl import UposTagger, FeatsTagger, LemmaTagger, conll18_ud_eval\n",
    "\n",
    "# we use UD Taiga corpus only as example. For real model training comment\n",
    "# Taiga and uncomment SynTagRus\n",
    "#corpus_name = 'UD_Russian-Taiga'\n",
    "corpus_name = 'UD_Russian-SynTagRus'\n",
    "download_ud(corpus_name, overwrite=False)\n",
    "\n",
    "corpus_gold = get_ud_test_path(corpus_name)\n",
    "corpus_test = 'corpora/_test_tagged.conllu'"
   ]
  },
  {
   "cell_type": "code",
   "execution_count": 31,
   "metadata": {},
   "outputs": [
    {
     "name": "stdout",
     "output_type": "stream",
     "text": [
      "Loading dataset... done.\n",
      "Creating model... done.\n",
      "Loading state_dict... done.\n",
      "Fit corpus dict... done.\n",
      "Loading dataset... done.\n",
      "Creating model... done.\n",
      "Loading state_dict... done.\n",
      "Fit corpus dict... done.\n",
      "Loading dataset... done.\n",
      "Creating model... done.\n",
      "Loading state_dict... done.\n",
      "Fit corpus dict... done.\n"
     ]
    }
   ],
   "source": [
    "tagger_u = UposTagger(embs=globals()['tagger'].embs\n",
    "                               if 'tagger' in globals() else\n",
    "                           None)\n",
    "tagger_u.load('upos-ft_model', device='cuda:10', dataset_device='cuda:10')\n",
    "tagger_f = FeatsTagger(embs=globals()['tagger'].embs\n",
    "                                if 'tagger' in globals() else\n",
    "                            None)\n",
    "tagger_f.load('feats-ft_model', device='cuda:10', dataset_device='cuda:10')\n",
    "tagger_l = LemmaTagger(embs=globals()['tagger'].embs\n",
    "                                if 'tagger' in globals() else\n",
    "                            None)\n",
    "tagger_l.load('lemma-ft_model', device='cuda:10', dataset_device='cuda:10')"
   ]
  },
  {
   "cell_type": "code",
   "execution_count": 32,
   "metadata": {},
   "outputs": [
    {
     "name": "stdout",
     "output_type": "stream",
     "text": [
      "Load corpus\n",
      "[=======] 6491                                                     \n",
      "Corpus has been loaded: 6491 sentences, 117523 tokens\n",
      "Processing corpus\n",
      "100%|██████████| 6491/6491 [00:11<00:00, 562.53it/s]\n",
      "Processing corpus\n",
      "100%|██████████| 6491/6491 [00:11<00:00, 557.90it/s]\n",
      "Processing corpus\n",
      "100%|██████████| 6491/6491 [00:12<00:00, 538.66it/s]\n"
     ]
    }
   ],
   "source": [
    "_ = tagger_l.predict(\n",
    "    tagger_f.predict(\n",
    "        tagger_u.predict(corpus_gold)\n",
    "    ), save_to=corpus_test\n",
    ")"
   ]
  },
  {
   "cell_type": "code",
   "execution_count": 33,
   "metadata": {},
   "outputs": [
    {
     "name": "stdout",
     "output_type": "stream",
     "text": [
      "Metric     | Precision |    Recall |  F1 Score | AligndAcc\n",
      "-----------+-----------+-----------+-----------+-----------\n",
      "Tokens     |    100.00 |    100.00 |    100.00 |\n",
      "Sentences  |    100.00 |    100.00 |    100.00 |\n",
      "Words      |    100.00 |    100.00 |    100.00 |\n",
      "UPOS       |     98.89 |     98.89 |     98.89 |     98.89\n",
      "XPOS       |    100.00 |    100.00 |    100.00 |    100.00\n",
      "UFeats     |     97.32 |     97.32 |     97.32 |     97.32\n",
      "AllTags    |     97.06 |     97.06 |     97.06 |     97.06\n",
      "Lemmas     |     98.51 |     98.51 |     98.51 |     98.51\n",
      "UAS        |    100.00 |    100.00 |    100.00 |    100.00\n",
      "LAS        |    100.00 |    100.00 |    100.00 |    100.00\n",
      "CLAS       |    100.00 |    100.00 |    100.00 |    100.00\n",
      "MLAS       |     95.44 |     95.44 |     95.44 |     95.44\n",
      "BLEX       |     97.75 |     97.75 |     97.75 |     97.75\n"
     ]
    }
   ],
   "source": [
    "conll18_ud_eval(corpus_gold, corpus_test)"
   ]
  },
  {
   "cell_type": "markdown",
   "metadata": {},
   "source": [
    "## MISC:NE\n",
    "\n",
    "Note: The corpora we used are proprietary. You have to find another corpora."
   ]
  },
  {
   "cell_type": "code",
   "execution_count": 34,
   "metadata": {},
   "outputs": [
    {
     "name": "stdout",
     "output_type": "stream",
     "text": [
      "Loading dataset... done.\n",
      "Creating model... done.\n",
      "Loading state_dict... done.\n",
      "Fit corpus dict... done.\n",
      "Loading dataset... done.\n",
      "Creating model... done.\n",
      "Loading state_dict... done.\n",
      "Fit corpus dict... done.\n",
      "Load corpus\n",
      "[===============================] 30390                             \n",
      "Corpus has been loaded: 30390 sentences, 378829 tokens\n",
      "Processing corpus\n",
      "100%|██████████| 30390/30390 [00:41<00:00, 735.39it/s]\n",
      "Processing corpus\n",
      "100%|██████████| 30390/30390 [00:41<00:00, 738.11it/s]\n",
      "Load corpus\n",
      "[====] 3799                                                        \n",
      "Corpus has been loaded: 3799 sentences, 47280 tokens\n",
      "Processing corpus\n",
      "100%|██████████| 3799/3799 [00:04<00:00, 778.19it/s]\n",
      "Processing corpus\n",
      "100%|██████████| 3799/3799 [00:04<00:00, 761.69it/s]\n",
      "Load corpus\n",
      "[====] 3798                                                        \n",
      "Corpus has been loaded: 3798 sentences, 47126 tokens\n",
      "Processing corpus\n",
      "100%|██████████| 3798/3798 [00:04<00:00, 769.76it/s]\n",
      "Processing corpus\n",
      "100%|██████████| 3798/3798 [00:06<00:00, 621.73it/s]\n"
     ]
    }
   ],
   "source": [
    "from mordl import UposTagger, FeatsTagger\n",
    "\n",
    "tagger = \\\n",
    "tagger_u = UposTagger(embs=globals()['tagger'].embs\n",
    "                               if 'tagger' in globals() else\n",
    "                           None)\n",
    "tagger_u.load('upos-ft_model', device='cuda:11', dataset_device='cuda:11')\n",
    "tagger_f = FeatsTagger(embs=globals()['tagger'].embs\n",
    "                                if 'tagger' in globals() else\n",
    "                            None)\n",
    "tagger_f.load('feats-ft_model', device='cuda:11', dataset_device='cuda:11')\n",
    "\n",
    "for corpora in zip(['corpora/ner_train.conllu',\n",
    "                    'corpora/ner_dev.conllu',\n",
    "                    'corpora/ner_test.conllu'],\n",
    "                   ['corpora/ner_train_upos_feats.conllu',\n",
    "                    'corpora/ner_dev_upos_feats.conllu',\n",
    "                    'corpora/ner_test_upos_feats.conllu']):\n",
    "    tagger_f.predict(\n",
    "        tagger_u.predict(corpora[0]), save_to=corpora[1]\n",
    "    )\n",
    "\n",
    "del tagger_u, tagger_f"
   ]
  },
  {
   "cell_type": "code",
   "execution_count": 35,
   "metadata": {},
   "outputs": [],
   "source": [
    "import junky\n",
    "from mordl import NeTagger\n",
    "\n",
    "FT_MODEL_FN = 'ft_native_300_ru_wiki_lenta_nltk_wordpunct_tokenize.bin'\n",
    "MODEL_FN = 'misc-ne-ft_model'\n",
    "SEED=42\n",
    "\n",
    "corpus_train = 'corpora/ner_train_upos_feats.conllu'\n",
    "corpus_dev = 'corpora/ner_dev_upos_feats.conllu'\n",
    "corpus_test = 'corpora/ner_test_upos_feats.conllu'"
   ]
  },
  {
   "cell_type": "code",
   "execution_count": 36,
   "metadata": {
    "scrolled": true
   },
   "outputs": [
    {
     "name": "stderr",
     "output_type": "stream",
     "text": [
      "Train: "
     ]
    },
    {
     "name": "stdout",
     "output_type": "stream",
     "text": [
      "Load corpus\n",
      "[===============================] 30390                             \n",
      "Corpus has been loaded: 30390 sentences, 378829 tokens\n"
     ]
    },
    {
     "name": "stderr",
     "output_type": "stream",
     "text": [
      "Test: "
     ]
    },
    {
     "name": "stdout",
     "output_type": "stream",
     "text": [
      "Load corpus\n",
      "[====] 3799                                                        \n",
      "Corpus has been loaded: 3799 sentences, 47280 tokens\n",
      "Parse corpus\n",
      "[###################################] 100%                         \n",
      "done: 34189 sentences, 408004 acceptable tokens (plus 0 for YO letters)\n",
      "Fit corpus dict... done.\n",
      "\n",
      "=== MISC:NE TAGGER TRAINING PIPELINE ===\n",
      "\n",
      "DATASETS CREATION\n",
      "\n",
      "MODEL CREATION\n",
      "Config saved\n",
      "\n",
      "MODEL TRAINING\n",
      "Epoch 1: 100%|██████████| 30390/30390 [01:02<00:00, 486.51it/s, train_loss=0.16] \n",
      "Epoch 1: \n",
      "Losses: train = 0.21267492, test = 0.12583241\n",
      "Test: accuracy = 0.90241117\n",
      "Test: precision = 0.53908552\n",
      "Test: recall = 0.39512047\n",
      "Test: f1_score = 0.41888132\n",
      "new maximum score 0.90241117\n",
      "Saving state_dict... done.\n",
      "Epoch 2:   0%|          | 0/30390 [00:00<?, ?it/s, train_loss=0.122]"
     ]
    },
    {
     "name": "stderr",
     "output_type": "stream",
     "text": [
      "/usr/local/lib/python3.5/dist-packages/sklearn/metrics/classification.py:1143: UndefinedMetricWarning: Precision is ill-defined and being set to 0.0 in labels with no predicted samples.\n",
      "  'precision', 'predicted', average, warn_for)\n",
      "/usr/local/lib/python3.5/dist-packages/sklearn/metrics/classification.py:1143: UndefinedMetricWarning: F-score is ill-defined and being set to 0.0 in labels with no predicted samples.\n",
      "  'precision', 'predicted', average, warn_for)\n"
     ]
    },
    {
     "name": "stdout",
     "output_type": "stream",
     "text": [
      "Epoch 2: 100%|██████████| 30390/30390 [01:02<00:00, 441.97it/s, train_loss=0.123]\n",
      "Epoch 2: \n",
      "Losses: train = 0.13016171, test = 0.10558253\n",
      "Test: accuracy = 0.91713198\n",
      "Test: precision = 0.60519670\n",
      "Test: recall = 0.50108389\n",
      "Test: f1_score = 0.51433264\n",
      "new maximum score 0.91713198\n",
      "Saving state_dict... done.\n",
      "Epoch 3: 100%|██████████| 30390/30390 [01:02<00:00, 472.94it/s, train_loss=0.108]\n",
      "Epoch 3: \n",
      "Losses: train = 0.11046946, test = 0.09530475\n",
      "Test: accuracy = 0.92529611\n",
      "Test: precision = 0.61576420\n",
      "Test: recall = 0.54284185\n",
      "Test: f1_score = 0.55905138\n",
      "new maximum score 0.92529611\n",
      "Saving state_dict... done.\n",
      "Epoch 4: 100%|██████████| 30390/30390 [01:02<00:00, 502.91it/s, train_loss=0.0965]\n",
      "Epoch 4: \n",
      "Losses: train = 0.09930579, test = 0.08984704\n",
      "Test: accuracy = 0.92895516\n",
      "Test: precision = 0.62719702\n",
      "Test: recall = 0.55587481\n",
      "Test: f1_score = 0.57628455\n",
      "new maximum score 0.92895516\n",
      "Saving state_dict... done.\n",
      "Epoch 5: 100%|██████████| 30390/30390 [01:02<00:00, 455.44it/s, train_loss=0.0921]\n",
      "Epoch 5: \n",
      "Losses: train = 0.09268559, test = 0.09044799\n",
      "Test: accuracy = 0.92910321\n",
      "Test: precision = 0.62014529\n",
      "Test: recall = 0.57311715\n",
      "Test: f1_score = 0.57956527\n",
      "new maximum score 0.92910321\n",
      "Saving state_dict... done.\n",
      "Epoch 6: 100%|██████████| 30390/30390 [01:02<00:00, 474.98it/s, train_loss=0.087] \n",
      "Epoch 6: \n",
      "Losses: train = 0.08703687, test = 0.08482957\n",
      "Test: accuracy = 0.93242386\n",
      "Test: precision = 0.61576188\n",
      "Test: recall = 0.57664441\n",
      "Test: f1_score = 0.58745983\n",
      "new maximum score 0.93242386\n",
      "Saving state_dict... done.\n",
      "Epoch 7: 100%|██████████| 30390/30390 [01:02<00:00, 486.06it/s, train_loss=0.0832]\n",
      "Epoch 7: \n",
      "Losses: train = 0.08446251, test = 0.08373904\n",
      "Test: accuracy = 0.93432741\n",
      "Test: precision = 0.64299685\n",
      "Test: recall = 0.57617576\n",
      "Test: f1_score = 0.59598650\n",
      "new maximum score 0.93432741\n",
      "Saving state_dict... done.\n",
      "Epoch 8: 100%|██████████| 30390/30390 [01:02<00:00, 453.98it/s, train_loss=0.0829]\n",
      "Epoch 8: \n",
      "Losses: train = 0.08099193, test = 0.08248820\n",
      "Test: accuracy = 0.93489848\n",
      "Test: precision = 0.62215281\n",
      "Test: recall = 0.59509870\n",
      "Test: f1_score = 0.59695277\n",
      "new maximum score 0.93489848\n",
      "Saving state_dict... done.\n",
      "Epoch 9: 100%|██████████| 30390/30390 [01:02<00:00, 465.15it/s, train_loss=0.0769]\n",
      "Epoch 9: \n",
      "Losses: train = 0.07729220, test = 0.08131743\n",
      "Test: accuracy = 0.93593486\n",
      "Test: precision = 0.70660472\n",
      "Test: recall = 0.59567309\n",
      "Test: f1_score = 0.61434720\n",
      "new maximum score 0.93593486\n",
      "Saving state_dict... done.\n",
      "Epoch 10: 100%|██████████| 30390/30390 [01:02<00:00, 445.18it/s, train_loss=0.0736]\n",
      "Epoch 10: \n",
      "Losses: train = 0.07401590, test = 0.08095577\n",
      "Test: accuracy = 0.93697124\n",
      "Test: precision = 0.70140501\n",
      "Test: recall = 0.61178268\n",
      "Test: f1_score = 0.62463031\n",
      "new maximum score 0.93697124\n",
      "Saving state_dict... done.\n",
      "Epoch 11: 100%|██████████| 30390/30390 [01:02<00:00, 485.09it/s, train_loss=0.0732]\n",
      "Epoch 11: \n",
      "Losses: train = 0.07330327, test = 0.07941217\n",
      "Test: accuracy = 0.93707699\n",
      "Test: precision = 0.69850429\n",
      "Test: recall = 0.60256445\n",
      "Test: f1_score = 0.62291396\n",
      "new maximum score 0.93707699\n",
      "Saving state_dict... done.\n",
      "Epoch 12: 100%|██████████| 30390/30390 [01:02<00:00, 482.51it/s, train_loss=0.0701]\n",
      "Epoch 12: \n",
      "Losses: train = 0.06972317, test = 0.07996796\n",
      "Test: accuracy = 0.93625212\n",
      "Test: precision = 0.66580317\n",
      "Test: recall = 0.63089736\n",
      "Test: f1_score = 0.64023225\n",
      "BAD EPOCHS: 1 (<< <)\n",
      "Epoch 13: 100%|██████████| 30390/30390 [01:01<00:00, 448.11it/s, train_loss=0.0701]\n",
      "Epoch 13: \n",
      "Losses: train = 0.06926493, test = 0.07964366\n",
      "Test: accuracy = 0.93777496\n",
      "Test: precision = 0.69227910\n",
      "Test: recall = 0.61878817\n",
      "Test: f1_score = 0.63182879\n",
      "new maximum score 0.93777496\n",
      "Saving state_dict... done.\n",
      "Epoch 14: 100%|██████████| 30390/30390 [01:02<00:00, 463.35it/s, train_loss=0.0673]\n",
      "Epoch 14: \n",
      "Losses: train = 0.06613097, test = 0.07969955\n",
      "Test: accuracy = 0.93701354\n",
      "Test: precision = 0.68860997\n",
      "Test: recall = 0.62803590\n",
      "Test: f1_score = 0.63346456\n",
      "BAD EPOCHS: 1 (<< <)\n",
      "Epoch 15: 100%|██████████| 30390/30390 [01:02<00:00, 486.22it/s, train_loss=0.0652]\n",
      "Epoch 15: \n",
      "Losses: train = 0.06534943, test = 0.08045433\n",
      "Test: accuracy = 0.93591371\n",
      "Test: precision = 0.63984191\n",
      "Test: recall = 0.64571199\n",
      "Test: f1_score = 0.63567980\n",
      "BAD EPOCHS: 2 (<< <)\n",
      "Epoch 16: 100%|██████████| 30390/30390 [01:02<00:00, 453.66it/s, train_loss=0.0643]\n",
      "Epoch 16: \n",
      "Losses: train = 0.06450235, test = 0.07934968\n",
      "Test: accuracy = 0.93773266\n",
      "Test: precision = 0.69906346\n",
      "Test: recall = 0.62443266\n",
      "Test: f1_score = 0.64522201\n",
      "BAD EPOCHS: 2 (<< >)\n",
      "Epoch 17: 100%|██████████| 30390/30390 [01:02<00:00, 502.42it/s, train_loss=0.0638]\n",
      "Epoch 17: \n",
      "Losses: train = 0.06241435, test = 0.07873935\n",
      "Test: accuracy = 0.93857868\n",
      "Test: precision = 0.73113628\n",
      "Test: recall = 0.63899626\n",
      "Test: f1_score = 0.65117566\n",
      "new maximum score 0.93857868\n",
      "Saving state_dict... done.\n",
      "Epoch 18: 100%|██████████| 30390/30390 [01:02<00:00, 508.90it/s, train_loss=0.0611]\n",
      "Epoch 18: \n",
      "Losses: train = 0.06047664, test = 0.07793800\n",
      "Test: accuracy = 0.93881134\n",
      "Test: precision = 0.66716702\n",
      "Test: recall = 0.62400302\n",
      "Test: f1_score = 0.63670928\n",
      "new maximum score 0.93881134\n",
      "Saving state_dict... done.\n",
      "Epoch 19: 100%|██████████| 30390/30390 [01:02<00:00, 472.75it/s, train_loss=0.0584]\n",
      "Epoch 19: \n",
      "Losses: train = 0.05937092, test = 0.07843750\n",
      "Test: accuracy = 0.93942470\n",
      "Test: precision = 0.68347012\n",
      "Test: recall = 0.63229526\n",
      "Test: f1_score = 0.64939995\n",
      "new maximum score 0.93942470\n",
      "Saving state_dict... done.\n",
      "Epoch 20: 100%|██████████| 30390/30390 [01:02<00:00, 480.81it/s, train_loss=0.0591]\n",
      "Epoch 20: \n",
      "Losses: train = 0.05842840, test = 0.07919994\n",
      "Test: accuracy = 0.93881134\n",
      "Test: precision = 0.68947049\n",
      "Test: recall = 0.64741013\n",
      "Test: f1_score = 0.65586651\n",
      "BAD EPOCHS: 1 (<< <)\n",
      "Epoch 21: 100%|██████████| 30390/30390 [01:02<00:00, 474.98it/s, train_loss=0.0575]\n",
      "Epoch 21: \n",
      "Losses: train = 0.05675903, test = 0.07995108\n",
      "Test: accuracy = 0.93883249\n",
      "Test: precision = 0.71653838\n",
      "Test: recall = 0.65437424\n",
      "Test: f1_score = 0.66989386\n",
      "BAD EPOCHS: 1 (<< >)\n",
      "Epoch 22: 100%|██████████| 30390/30390 [01:02<00:00, 486.80it/s, train_loss=0.057] \n",
      "Epoch 22: \n",
      "Losses: train = 0.05641655, test = 0.08009766\n",
      "Test: accuracy = 0.93838832\n",
      "Test: precision = 0.69273844\n",
      "Test: recall = 0.63734326\n",
      "Test: f1_score = 0.65938946\n",
      "BAD EPOCHS: 2 (<< <)\n",
      "Epoch 23: 100%|██████████| 30390/30390 [01:02<00:00, 460.92it/s, train_loss=0.0561]\n",
      "Epoch 23: \n",
      "Losses: train = 0.05492622, test = 0.08107151\n",
      "Test: accuracy = 0.93781726\n",
      "Test: precision = 0.69252510\n",
      "Test: recall = 0.67456125\n",
      "Test: f1_score = 0.67752556\n",
      "BAD EPOCHS: 3 (<< <)\n",
      "Epoch 24: 100%|██████████| 30390/30390 [01:02<00:00, 485.61it/s, train_loss=0.0532]\n",
      "Epoch 24: \n",
      "Losses: train = 0.05315279, test = 0.08136428\n",
      "Test: accuracy = 0.93891709\n",
      "Test: precision = 0.70242685\n",
      "Test: recall = 0.64452514\n",
      "Test: f1_score = 0.65980570\n",
      "BAD EPOCHS: 3 (<< >)\n",
      "Epoch 25: 100%|██████████| 30390/30390 [01:02<00:00, 489.10it/s, train_loss=0.0518]\n",
      "Epoch 25: \n",
      "Losses: train = 0.05225020, test = 0.08223442\n",
      "Test: accuracy = 0.93895939\n",
      "Test: precision = 0.74670706\n",
      "Test: recall = 0.65654336\n",
      "Test: f1_score = 0.67894549\n",
      "BAD EPOCHS: 3 (<< >)\n",
      "Epoch 26: 100%|██████████| 30390/30390 [01:02<00:00, 497.99it/s, train_loss=0.0517]\n",
      "Epoch 26: \n",
      "Losses: train = 0.05089951, test = 0.08216511\n",
      "Test: accuracy = 0.93891709\n",
      "Test: precision = 0.71846460\n",
      "Test: recall = 0.67381575\n",
      "Test: f1_score = 0.68476041\n",
      "BAD EPOCHS: 4 (<< <)\n",
      "Epoch 27: 100%|██████████| 30390/30390 [01:02<00:00, 465.12it/s, train_loss=0.0507]\n",
      "Epoch 27: \n",
      "Losses: train = 0.04971553, test = 0.08375897\n",
      "Test: accuracy = 0.93781726\n",
      "Test: precision = 0.66091033\n",
      "Test: recall = 0.67051290\n",
      "Test: f1_score = 0.66145595\n",
      "BAD EPOCHS: 5 (<< <)\n",
      "Maximum bad epochs exceeded. Process has been stopped. Best score 0.939424703891709 (on epoch 19)\n",
      "Elapsed time: 29m 56s\n",
      "\n",
      "MODEL TUNING\n",
      "Loading state_dict... done.\n",
      "Epoch 1: 100%|██████████| 30390/30390 [01:00<00:00, 487.26it/s, train_loss=0.0554]\n",
      "Epoch 1: \n",
      "Losses: train = 0.05542654, test = 0.07896301\n",
      "Test: accuracy = 0.93919205\n",
      "Test: precision = 0.66814077\n",
      "Test: recall = 0.65891772\n",
      "Test: f1_score = 0.66162752\n",
      "BAD EPOCHS: 1 (<< <)\n",
      "Epoch 2: 100%|██████████| 30390/30390 [01:00<00:00, 513.04it/s, train_loss=0.0548]\n",
      "Epoch 2: \n",
      "Losses: train = 0.05481562, test = 0.07831880\n",
      "Test: accuracy = 0.93953046\n",
      "Test: precision = 0.66884514\n",
      "Test: recall = 0.65828876\n",
      "Test: f1_score = 0.66174579\n",
      "new maximum score 0.93953046\n",
      "Saving state_dict... done.\n",
      "Epoch 3: 100%|██████████| 30390/30390 [01:00<00:00, 487.27it/s, train_loss=0.0556]\n",
      "Epoch 3: \n",
      "Losses: train = 0.05497157, test = 0.07896506\n",
      "Test: accuracy = 0.93940355\n",
      "Test: precision = 0.66641865\n",
      "Test: recall = 0.66014380\n",
      "Test: f1_score = 0.66174787\n",
      "BAD EPOCHS: 1 (<< <)\n",
      "Epoch 4: 100%|██████████| 30390/30390 [01:00<00:00, 450.38it/s, train_loss=0.0538]\n",
      "Epoch 4: \n",
      "Losses: train = 0.05441338, test = 0.07934495\n",
      "Test: accuracy = 0.93912860\n",
      "Test: precision = 0.66634346\n",
      "Test: recall = 0.65790779\n",
      "Test: f1_score = 0.66063802\n",
      "BAD EPOCHS: 2 (<< <)\n",
      "Epoch 5: 100%|██████████| 30390/30390 [01:00<00:00, 441.39it/s, train_loss=0.0543]\n",
      "Epoch 5: \n",
      "Losses: train = 0.05465776, test = 0.07973913\n",
      "Test: accuracy = 0.93927665\n",
      "Test: precision = 0.66419381\n",
      "Test: recall = 0.66104601\n",
      "Test: f1_score = 0.66118088\n",
      "BAD EPOCHS: 2 (<< >)\n",
      "Epoch 6: 100%|██████████| 30390/30390 [01:00<00:00, 501.35it/s, train_loss=0.055] \n",
      "Epoch 6: \n",
      "Losses: train = 0.05447084, test = 0.07892153\n",
      "Test: accuracy = 0.93957276\n",
      "Test: precision = 0.66788714\n",
      "Test: recall = 0.65753076\n",
      "Test: f1_score = 0.66126389\n",
      "new maximum score 0.93957276\n",
      "Saving state_dict... done.\n",
      "Epoch 7: 100%|██████████| 30390/30390 [01:00<00:00, 506.37it/s, train_loss=0.0539]\n",
      "Epoch 7: \n",
      "Losses: train = 0.05381150, test = 0.07932128\n",
      "Test: accuracy = 0.93940355\n",
      "Test: precision = 0.66678044\n",
      "Test: recall = 0.65956321\n",
      "Test: f1_score = 0.66171835\n",
      "BAD EPOCHS: 1 (<< <)\n",
      "Epoch 8: 100%|██████████| 30390/30390 [01:00<00:00, 473.38it/s, train_loss=0.0555]\n",
      "Epoch 8: \n",
      "Losses: train = 0.05458861, test = 0.08033899\n",
      "Test: accuracy = 0.93914975\n",
      "Test: precision = 0.69906953\n",
      "Test: recall = 0.66968071\n",
      "Test: f1_score = 0.67348349\n",
      "BAD EPOCHS: 2 (<< <)\n",
      "Epoch 9: 100%|██████████| 30390/30390 [01:00<00:00, 487.10it/s, train_loss=0.0549]\n",
      "Epoch 9: \n",
      "Losses: train = 0.05423013, test = 0.07942420\n",
      "Test: accuracy = 0.93972081\n",
      "Test: precision = 0.66729466\n",
      "Test: recall = 0.65745235\n",
      "Test: f1_score = 0.66081172\n",
      "new maximum score 0.93972081\n",
      "Saving state_dict... done.\n",
      "Epoch 10: 100%|██████████| 30390/30390 [01:00<00:00, 505.83it/s, train_loss=0.0539]\n",
      "Epoch 10: \n",
      "Losses: train = 0.05432087, test = 0.07918981\n",
      "Test: accuracy = 0.93980541\n",
      "Test: precision = 0.67901925\n",
      "Test: recall = 0.65805683\n",
      "Test: f1_score = 0.66570866\n",
      "new maximum score 0.93980541\n",
      "Saving state_dict... done.\n",
      "Epoch 11: 100%|██████████| 30390/30390 [01:00<00:00, 474.60it/s, train_loss=0.0544]\n",
      "Epoch 11: \n",
      "Losses: train = 0.05384673, test = 0.08057750\n",
      "Test: accuracy = 0.93900169\n",
      "Test: precision = 0.70025550\n",
      "Test: recall = 0.66603063\n",
      "Test: f1_score = 0.67198804\n",
      "BAD EPOCHS: 1 (<< <)\n",
      "Epoch 12: 100%|██████████| 30390/30390 [01:00<00:00, 500.20it/s, train_loss=0.054] \n",
      "Epoch 12: \n",
      "Losses: train = 0.05397735, test = 0.08019406\n",
      "Test: accuracy = 0.93946701\n",
      "Test: precision = 0.70211386\n",
      "Test: recall = 0.66653786\n",
      "Test: f1_score = 0.67342591\n",
      "BAD EPOCHS: 1 (<< >)\n",
      "Epoch 13: 100%|██████████| 30390/30390 [01:00<00:00, 488.81it/s, train_loss=0.0537]\n",
      "Epoch 13: \n",
      "Losses: train = 0.05338503, test = 0.07957445\n",
      "Test: accuracy = 0.93965736\n",
      "Test: precision = 0.67718806\n",
      "Test: recall = 0.65862364\n",
      "Test: f1_score = 0.66502750\n",
      "BAD EPOCHS: 1 (<< >)\n",
      "Epoch 14: 100%|██████████| 30390/30390 [01:00<00:00, 504.79it/s, train_loss=0.054] \n",
      "Epoch 14: \n",
      "Losses: train = 0.05380543, test = 0.07925325\n",
      "Test: accuracy = 0.93978426\n",
      "Test: precision = 0.70223155\n",
      "Test: recall = 0.66484491\n",
      "Test: f1_score = 0.67598023\n",
      "BAD EPOCHS: 1 (<< >)\n",
      "Epoch 15: 100%|██████████| 30390/30390 [01:00<00:00, 478.25it/s, train_loss=0.0531]\n",
      "Epoch 15: \n",
      "Losses: train = 0.05336174, test = 0.07937847\n",
      "Test: accuracy = 0.93982657\n",
      "Test: precision = 0.69713483\n",
      "Test: recall = 0.65445237\n",
      "Test: f1_score = 0.66878587\n",
      "new maximum score 0.93982657\n",
      "Saving state_dict... done.\n",
      "Epoch 16: 100%|██████████| 30390/30390 [01:00<00:00, 500.90it/s, train_loss=0.0528]\n",
      "Epoch 16: \n",
      "Losses: train = 0.05352919, test = 0.07947335\n",
      "Test: accuracy = 0.93961506\n",
      "Test: precision = 0.70084729\n",
      "Test: recall = 0.67008477\n",
      "Test: f1_score = 0.67827510\n",
      "BAD EPOCHS: 1 (<< <)\n",
      "Epoch 17: 100%|██████████| 30390/30390 [01:00<00:00, 501.95it/s, train_loss=0.0529]\n",
      "Epoch 17: \n",
      "Losses: train = 0.05328136, test = 0.07991106\n",
      "Test: accuracy = 0.93959391\n",
      "Test: precision = 0.70104245\n",
      "Test: recall = 0.66758908\n",
      "Test: f1_score = 0.67704090\n",
      "BAD EPOCHS: 2 (<< <)\n",
      "Epoch 18: 100%|██████████| 30390/30390 [01:00<00:00, 502.36it/s, train_loss=0.0525]\n",
      "Epoch 18: \n",
      "Losses: train = 0.05269766, test = 0.07979146\n",
      "Test: accuracy = 0.93974196\n",
      "Test: precision = 0.69886791\n",
      "Test: recall = 0.66855528\n",
      "Test: f1_score = 0.67621166\n",
      "BAD EPOCHS: 2 (<< >)\n",
      "Epoch 19: 100%|██████████| 30390/30390 [01:00<00:00, 492.95it/s, train_loss=0.0536]\n",
      "Epoch 19: \n",
      "Losses: train = 0.05312799, test = 0.08111668\n",
      "Test: accuracy = 0.93929780\n",
      "Test: precision = 0.71539453\n",
      "Test: recall = 0.66943967\n",
      "Test: f1_score = 0.68086402\n",
      "BAD EPOCHS: 3 (<< <)\n",
      "Epoch 20: 100%|██████████| 30390/30390 [01:00<00:00, 467.70it/s, train_loss=0.0528]\n",
      "Epoch 20: \n",
      "Losses: train = 0.05264068, test = 0.08059141\n",
      "Test: accuracy = 0.93904399\n",
      "Test: precision = 0.71459604\n",
      "Test: recall = 0.67017685\n",
      "Test: f1_score = 0.68073404\n",
      "BAD EPOCHS: 4 (<< <)\n",
      "Epoch 21: 100%|██████████| 30390/30390 [01:00<00:00, 470.34it/s, train_loss=0.0534]\n",
      "Epoch 21: \n",
      "Losses: train = 0.05307971, test = 0.08022177\n",
      "Test: accuracy = 0.93961506\n",
      "Test: precision = 0.72084959\n",
      "Test: recall = 0.66394911\n",
      "Test: f1_score = 0.68084175\n",
      "BAD EPOCHS: 4 (<< >)\n",
      "Epoch 22: 100%|██████████| 30390/30390 [01:00<00:00, 503.06it/s, train_loss=0.0537]\n",
      "Epoch 22: \n",
      "Losses: train = 0.05310670, test = 0.07984206\n",
      "Test: accuracy = 0.93999577\n",
      "Test: precision = 0.70026396\n",
      "Test: recall = 0.66572663\n",
      "Test: f1_score = 0.67566543\n",
      "new maximum score 0.93999577\n",
      "Saving state_dict... done.\n",
      "Epoch 23: 100%|██████████| 30390/30390 [01:03<00:00, 469.20it/s, train_loss=0.0521]\n",
      "Epoch 23: \n",
      "Losses: train = 0.05180631, test = 0.08037246\n",
      "Test: accuracy = 0.93944585\n",
      "Test: precision = 0.71906161\n",
      "Test: recall = 0.66777280\n",
      "Test: f1_score = 0.68196206\n",
      "BAD EPOCHS: 1 (<< <)\n",
      "Epoch 24: 100%|██████████| 30390/30390 [01:02<00:00, 424.30it/s, train_loss=0.052] \n",
      "Epoch 24: \n",
      "Losses: train = 0.05274257, test = 0.08092058\n",
      "Test: accuracy = 0.93961506\n",
      "Test: precision = 0.72024270\n",
      "Test: recall = 0.66870321\n",
      "Test: f1_score = 0.68316904\n",
      "BAD EPOCHS: 1 (<< >)\n",
      "Epoch 25: 100%|██████████| 30390/30390 [01:02<00:00, 483.61it/s, train_loss=0.0533]\n",
      "Epoch 25: \n",
      "Losses: train = 0.05279606, test = 0.07954621\n",
      "Test: accuracy = 0.94010152\n",
      "Test: precision = 0.69875033\n",
      "Test: recall = 0.65908624\n",
      "Test: f1_score = 0.67212758\n",
      "new maximum score 0.94010152\n",
      "Saving state_dict... done.\n",
      "Epoch 26: 100%|██████████| 30390/30390 [01:00<00:00, 449.69it/s, train_loss=0.053] \n",
      "Epoch 26: \n",
      "Losses: train = 0.05294068, test = 0.08062148\n",
      "Test: accuracy = 0.93974196\n",
      "Test: precision = 0.70030580\n",
      "Test: recall = 0.67170740\n",
      "Test: f1_score = 0.67886210\n",
      "BAD EPOCHS: 1 (<< <)\n",
      "Epoch 27: 100%|██████████| 30390/30390 [01:02<00:00, 501.09it/s, train_loss=0.0539]\n",
      "Epoch 27: \n",
      "Losses: train = 0.05252762, test = 0.07910604\n",
      "Test: accuracy = 0.93984772\n",
      "Test: precision = 0.69477753\n",
      "Test: recall = 0.66133391\n",
      "Test: f1_score = 0.67109017\n",
      "BAD EPOCHS: 1 (<< >)\n",
      "Epoch 28: 100%|██████████| 30390/30390 [01:05<00:00, 466.92it/s, train_loss=0.0513]\n",
      "Epoch 28: \n",
      "Losses: train = 0.05201383, test = 0.07930074\n",
      "Test: accuracy = 0.93980541\n",
      "Test: precision = 0.69631866\n",
      "Test: recall = 0.65707969\n",
      "Test: f1_score = 0.66959162\n",
      "BAD EPOCHS: 2 (<< <)\n",
      "Epoch 29: 100%|██████████| 30390/30390 [01:05<00:00, 332.08it/s, train_loss=0.0525]\n",
      "Epoch 29: \n",
      "Losses: train = 0.05190006, test = 0.07969118\n",
      "Test: accuracy = 0.93993232\n",
      "Test: precision = 0.69783883\n",
      "Test: recall = 0.66000111\n",
      "Test: f1_score = 0.67215467\n",
      "BAD EPOCHS: 2 (<< >)\n",
      "Epoch 30: 100%|██████████| 30390/30390 [01:05<00:00, 461.39it/s, train_loss=0.0528]\n",
      "Epoch 30: \n",
      "Losses: train = 0.05255389, test = 0.08014124\n",
      "Test: accuracy = 0.93999577\n",
      "Test: precision = 0.72193703\n",
      "Test: recall = 0.66547216\n",
      "Test: f1_score = 0.68226641\n",
      "BAD EPOCHS: 2 (<< >)\n",
      "Epoch 31: 100%|██████████| 30390/30390 [01:06<00:00, 457.99it/s, train_loss=0.0528]\n",
      "Epoch 31: \n",
      "Losses: train = 0.05199252, test = 0.08068230\n",
      "Test: accuracy = 0.93967851\n",
      "Test: precision = 0.71941024\n",
      "Test: recall = 0.66682997\n",
      "Test: f1_score = 0.68167252\n",
      "BAD EPOCHS: 3 (<< <)\n",
      "Epoch 32: 100%|██████████| 30390/30390 [01:08<00:00, 444.65it/s, train_loss=0.0531]\n",
      "Epoch 32: \n",
      "Losses: train = 0.05245806, test = 0.07950238\n",
      "Test: accuracy = 0.93995347\n",
      "Test: precision = 0.70101952\n",
      "Test: recall = 0.66776901\n",
      "Test: f1_score = 0.67688109\n",
      "BAD EPOCHS: 3 (<< >)\n",
      "Epoch 33: 100%|██████████| 30390/30390 [01:00<00:00, 513.71it/s, train_loss=0.0523]\n",
      "Epoch 33: \n",
      "Losses: train = 0.05217261, test = 0.08045282\n",
      "Test: accuracy = 0.93965736\n",
      "Test: precision = 0.70097828\n",
      "Test: recall = 0.67103853\n",
      "Test: f1_score = 0.67887973\n",
      "BAD EPOCHS: 4 (<< <)\n",
      "Epoch 34: 100%|██████████| 30390/30390 [01:00<00:00, 506.02it/s, train_loss=0.0528]\n",
      "Epoch 34: \n",
      "Losses: train = 0.05213484, test = 0.08003461\n",
      "Test: accuracy = 0.93927665\n",
      "Test: precision = 0.71753078\n",
      "Test: recall = 0.66690504\n",
      "Test: f1_score = 0.68074604\n",
      "BAD EPOCHS: 5 (<< <)\n",
      "Maximum bad epochs exceeded. Process has been stopped. Best score 0.9401015228426396 (on epoch 25)\n",
      "Elapsed time: 37m 20s\n",
      "\n",
      "=== MISC:NE TAGGER TRAINING HAS FINISHED === Total time: 1h 9m 41s ===\n",
      "\n",
      "Use the `.load('misc-ne-ft_model')` method to start working with the MISC:NE tagger.\n"
     ]
    }
   ],
   "source": [
    "tagger = NeTagger(embs=globals()['tagger'].embs\n",
    "                           if 'tagger' in globals() else\n",
    "                       None)\n",
    "tagger.load_train_corpus(corpus_train)\n",
    "tagger.load_test_corpus(corpus_dev)\n",
    "\n",
    "_ = tagger.train(MODEL_FN, device='cuda:11', word_emb_type='ft',\n",
    "                 word_emb_path=FT_MODEL_FN,\n",
    "                 rnn_emb_dim=300, cnn_emb_dim=None, cnn_kernels=range(1, 7),\n",
    "                 upos_emb_dim=200, lstm_layers=1, seed=SEED)"
   ]
  },
  {
   "cell_type": "code",
   "execution_count": 37,
   "metadata": {},
   "outputs": [
    {
     "name": "stdout",
     "output_type": "stream",
     "text": [
      "Loading dataset... done.\n",
      "Creating model... done.\n",
      "Loading state_dict... done.\n",
      "Fit corpus dict... done.\n"
     ]
    }
   ],
   "source": [
    "res_dev = 'corpora/_dev_' + MODEL_FN.replace('_model', '.conllu')\n",
    "res_test = 'corpora/_test_' + MODEL_FN.replace('_model', '.conllu')\n",
    "tagger = NeTagger(embs=globals()['tagger'].embs\n",
    "                           if 'tagger' in globals() else\n",
    "                       None)\n",
    "tagger.load(MODEL_FN)\n",
    "junky.clear_tqdm()"
   ]
  },
  {
   "cell_type": "code",
   "execution_count": 38,
   "metadata": {
    "scrolled": false
   },
   "outputs": [
    {
     "name": "stdout",
     "output_type": "stream",
     "text": [
      "Load corpus\n",
      "[====] 3799                                                        \n",
      "Corpus has been loaded: 3799 sentences, 47280 tokens\n"
     ]
    }
   ],
   "source": [
    "_ = tagger.predict(corpus_dev, clone_ds=True, save_to=res_dev)"
   ]
  },
  {
   "cell_type": "code",
   "execution_count": 39,
   "metadata": {},
   "outputs": [
    {
     "name": "stdout",
     "output_type": "stream",
     "text": [
      "Evaluating MISC:NE\n",
      "Load corpus\n",
      "[====] 3799                                                        \n",
      "Corpus has been loaded: 3799 sentences, 47280 tokens\n",
      "Processing corpus\n",
      "100%|██████████| 3799/3799 [00:05<00:00, 758.27it/s]\n",
      "MISC:NE total: 17189\n",
      "      correct: 14357\n",
      "        wrong: 2832 [838 excess / 1175 absent / 819 wrong type]\n",
      "     Accuracy: 0.8352434696608296\n",
      "[Total accuracy: 0.9401015228426396]\n",
      "[By sentence accuracy: 0.5993682548038958]\n"
     ]
    }
   ],
   "source": [
    "_ = tagger.evaluate(corpus_dev)"
   ]
  },
  {
   "cell_type": "code",
   "execution_count": 40,
   "metadata": {
    "scrolled": false
   },
   "outputs": [
    {
     "name": "stdout",
     "output_type": "stream",
     "text": [
      "Evaluating MISC:NE\n",
      "Load corpus\n",
      "Load corpus\n",
      "[====] 3799                                                        \n",
      "Corpus has been loaded: 3799 sentences, 47280 tokens\n",
      "[====] 3799                                                        \n",
      "Corpus has been loaded: 3799 sentences, 47280 tokens\n",
      "MISC:NE total: 17189\n",
      "      correct: 14357\n",
      "        wrong: 2832 [838 excess / 1175 absent / 819 wrong type]\n",
      "     Accuracy: 0.8352434696608296\n",
      "[Total accuracy: 0.9401015228426396]\n",
      "[By sentence accuracy: 0.5993682548038958]\n"
     ]
    }
   ],
   "source": [
    "_ = tagger.evaluate(corpus_dev, res_dev)"
   ]
  },
  {
   "cell_type": "code",
   "execution_count": 41,
   "metadata": {
    "scrolled": true
   },
   "outputs": [
    {
     "name": "stdout",
     "output_type": "stream",
     "text": [
      "Load corpus\n",
      "[====] 3798                                                        \n",
      "Corpus has been loaded: 3798 sentences, 47126 tokens\n",
      "Processing corpus\n",
      "100%|██████████| 3798/3798 [00:04<00:00, 766.24it/s]\n"
     ]
    }
   ],
   "source": [
    "_ = tagger.predict(corpus_test, save_to=res_test)"
   ]
  },
  {
   "cell_type": "code",
   "execution_count": 42,
   "metadata": {},
   "outputs": [
    {
     "name": "stdout",
     "output_type": "stream",
     "text": [
      "Evaluating MISC:NE\n",
      "Load corpus\n",
      "[====] 3798                                                        \n",
      "Corpus has been loaded: 3798 sentences, 47126 tokens\n",
      "MISC:NE total: 16880\n",
      "      correct: 14092\n",
      "        wrong: 2788 [945 excess / 1108 absent / 735 wrong type]\n",
      "     Accuracy: 0.8348341232227489\n",
      "[Total accuracy: 0.9408394516827229]\n",
      "[By sentence accuracy: 0.6011058451816745]\n"
     ]
    }
   ],
   "source": [
    "_ = tagger.evaluate(corpus_test, clone_ds=True)"
   ]
  },
  {
   "cell_type": "code",
   "execution_count": 43,
   "metadata": {
    "scrolled": false
   },
   "outputs": [
    {
     "name": "stdout",
     "output_type": "stream",
     "text": [
      "Evaluating MISC:NE\n",
      "Load corpus\n",
      "Load corpus\n",
      "[====] 3798                                                        \n",
      "Corpus has been loaded: 3798 sentences, 47126 tokens\n",
      "[====] 3798                                                        \n",
      "Corpus has been loaded: 3798 sentences, 47126 tokens\n",
      "MISC:NE total: 16880\n",
      "      correct: 14092\n",
      "        wrong: 2788 [945 excess / 1108 absent / 735 wrong type]\n",
      "     Accuracy: 0.8348341232227489\n",
      "[Total accuracy: 0.9408394516827229]\n",
      "[By sentence accuracy: 0.6011058451816745]\n"
     ]
    }
   ],
   "source": [
    "_ = tagger.evaluate(corpus_test, res_test)"
   ]
  },
  {
   "cell_type": "code",
   "execution_count": 44,
   "metadata": {},
   "outputs": [
    {
     "name": "stdout",
     "output_type": "stream",
     "text": [
      "Load corpus\n",
      "[====] 3798                                                        \n",
      "Corpus has been loaded: 3798 sentences, 47126 tokens\n",
      "Load corpus\n",
      "[====] 3798                                                        \n",
      "Corpus has been loaded: 3798 sentences, 47126 tokens\n",
      "Address: 0.8321981424148607\n",
      "City: 0.0\n",
      "Date: 0.0\n",
      "Department: 0.7541401273885351\n",
      "Facility: 0.3015267175572519\n",
      "Geo: 0.8546671918077984\n",
      "Goal: 0.4128205128205128\n",
      "Location: 0.35555555555555557\n",
      "Organization: 0.8447818751506387\n",
      "Person: 0.7401574803149606\n",
      "PersonProperty: 0.7415458937198067\n",
      "Phone: 0.649746192893401\n",
      "Time: 0.0\n"
     ]
    }
   ],
   "source": [
    "corp_gold = list(tagger._get_corpus(corpus_test, asis=True))\n",
    "corp_test = list(tagger._get_corpus(res_test))\n",
    "tags = sorted(set(x['MISC'].get('NE')\n",
    "                      for x in corp_gold for x in x[0]\n",
    "                          if x['MISC'].get('NE')))\n",
    "for tag in tags:\n",
    "    print('{}: {}'.format(\n",
    "        tag, tagger.evaluate(corp_gold, corp_test,\n",
    "                             label=tag, log_file=None)\n",
    "    ))"
   ]
  },
  {
   "cell_type": "code",
   "execution_count": null,
   "metadata": {},
   "outputs": [],
   "source": []
  }
 ],
 "metadata": {
  "kernelspec": {
   "display_name": "Python 3",
   "language": "python",
   "name": "python3"
  },
  "language_info": {
   "codemirror_mode": {
    "name": "ipython",
    "version": 3
   },
   "file_extension": ".py",
   "mimetype": "text/x-python",
   "name": "python",
   "nbconvert_exporter": "python",
   "pygments_lexer": "ipython3",
   "version": "3.5.2"
  }
 },
 "nbformat": 4,
 "nbformat_minor": 2
}
